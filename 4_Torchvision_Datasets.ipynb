{
 "cells": [
  {
   "cell_type": "code",
   "execution_count": 1,
   "id": "c06037c6-1744-44df-939b-eb5e709f2f58",
   "metadata": {},
   "outputs": [],
   "source": [
    "# CIFAR10 Dataset.\n",
    "# Parameters:\n",
    "#     root (str or pathlib.Path)                数据集路径\n",
    "#     train (bool, optional)                    True:训练集     False:测试集\n",
    "#     transform (callable, optional)            对数据集的变化，传入上一节所学内容即可\n",
    "#     target_transform (callable, optional)     对于target的transforms\n",
    "#     download (bool, optional)                 True:自动下载   False:不会下载"
   ]
  },
  {
   "cell_type": "code",
   "execution_count": 15,
   "id": "95384790-644a-4f1f-8d2b-914953b3c37c",
   "metadata": {},
   "outputs": [],
   "source": [
    "import torchvision\n",
    "from torch.utils.tensorboard import SummaryWriter"
   ]
  },
  {
   "cell_type": "code",
   "execution_count": 4,
   "id": "fb521e53-b94b-4f43-aef2-52e1ba7bd066",
   "metadata": {},
   "outputs": [
    {
     "name": "stdout",
     "output_type": "stream",
     "text": [
      "Files already downloaded and verified\n",
      "Files already downloaded and verified\n"
     ]
    }
   ],
   "source": [
    "train_set = torchvision.datasets.CIFAR10(\"../datasets/CIFAR10\", train = True, download = True)\n",
    "test_set = torchvision.datasets.CIFAR10(\"../datasets/CIFAR10\", train = False, download = True)"
   ]
  },
  {
   "cell_type": "code",
   "execution_count": 13,
   "id": "1a037a76-8866-4efb-a72f-752ce991393e",
   "metadata": {},
   "outputs": [
    {
     "name": "stdout",
     "output_type": "stream",
     "text": [
      "(<PIL.Image.Image image mode=RGB size=32x32 at 0x16DF0B880>, 6)\n",
      "['airplane', 'automobile', 'bird', 'cat', 'deer', 'dog', 'frog', 'horse', 'ship', 'truck']\n",
      "frog\n",
      "<PIL.Image.Image image mode=RGB size=32x32 at 0x16DF0BD90>\n",
      "6\n"
     ]
    }
   ],
   "source": [
    "print(train_set[0])\n",
    "# 最后的数字是每张图片的target\n",
    "# classes{'airplane': 0, 'automobile': 1, 'bird': 2, 'cat': 3, 'deer': 4, 'dog': 5, 'frog': 6, 'horse': 7, 'ship': 8, 'truck': 9}\n",
    "print(train_set.classes)\n",
    "img, target = train_set[0]\n",
    "print(train_set.classes[target])\n",
    "print(img)\n",
    "print(target)\n",
    "img.show()"
   ]
  },
  {
   "cell_type": "code",
   "execution_count": 19,
   "id": "aa3245f9-e15c-4d4c-a6a2-6807d413cb05",
   "metadata": {},
   "outputs": [
    {
     "name": "stdout",
     "output_type": "stream",
     "text": [
      "Files already downloaded and verified\n",
      "Files already downloaded and verified\n",
      "(tensor([[[ 0.1460,  0.0763,  0.1068,  ...,  0.5773,  0.5512,  0.5338],\n",
      "         [-0.0414, -0.1111, -0.0327,  ...,  0.4248,  0.4074,  0.4205],\n",
      "         [-0.0022, -0.0414,  0.1024,  ...,  0.4031,  0.4118,  0.3638],\n",
      "         ...,\n",
      "         [ 0.7952,  0.7647,  0.7516,  ...,  0.5861,  0.1329,  0.1198],\n",
      "         [ 0.6732,  0.6427,  0.6993,  ...,  0.6906,  0.3115,  0.2505],\n",
      "         [ 0.6601,  0.6209,  0.6688,  ...,  0.8301,  0.5468,  0.4248]],\n",
      "\n",
      "        [[ 0.0332, -0.0151, -0.0090,  ...,  0.2443,  0.2232,  0.2202],\n",
      "         [-0.0935, -0.1538, -0.1297,  ...,  0.1116,  0.0965,  0.1086],\n",
      "         [-0.0814, -0.1327, -0.0724,  ...,  0.0995,  0.0995,  0.0664],\n",
      "         ...,\n",
      "         [ 0.3590,  0.3077,  0.3318,  ...,  0.2474, -0.0603, -0.0513],\n",
      "         [ 0.2655,  0.2172,  0.2805,  ...,  0.2926,  0.0332,  0.0060],\n",
      "         [ 0.2805,  0.2353,  0.2745,  ...,  0.4012,  0.2021,  0.1237]],\n",
      "\n",
      "        [[-0.3613, -0.4622, -0.4734,  ..., -0.1092, -0.1429, -0.1373],\n",
      "         [-0.6022, -0.7143, -0.7143,  ..., -0.4062, -0.4342, -0.3950],\n",
      "         [-0.5966, -0.7143, -0.6695,  ..., -0.4342, -0.4342, -0.4790],\n",
      "         ...,\n",
      "         [-0.1765, -0.5238, -0.5686,  ..., -0.3221, -0.6751, -0.6022],\n",
      "         [-0.1765, -0.4790, -0.5462,  ..., -0.1877, -0.5238, -0.5238],\n",
      "         [-0.0644, -0.1877, -0.2269,  ...,  0.0700, -0.2437, -0.3109]]]), 6)\n"
     ]
    }
   ],
   "source": [
    "# 如何将Datasets中的数据转换为Tensor类型\n",
    "Dataset_transform = torchvision.transforms.Compose([\n",
    "    torchvision.transforms.ToTensor(),\n",
    "    torchvision.transforms.Normalize([0.1, 0.2, 0.5], [0.9, 1.3, 0.7])\n",
    "])\n",
    "\n",
    "train_set = torchvision.datasets.CIFAR10(\"../datasets/CIFAR10\", train = True, transform = Dataset_transform, download = True)\n",
    "test_set = torchvision.datasets.CIFAR10(\"../datasets/CIFAR10\", train = False, transform = Dataset_transform, download = True)\n",
    "\n",
    "print(train_set[0])\n",
    "\n",
    "writer = SummaryWriter(\"../logs/4_Torchvision_Datasets\")\n",
    "for i in range(100):\n",
    "    img, target = train_set[i]\n",
    "    writer.add_image(\"train_set\", img, i)\n",
    "\n",
    "writer.close()"
   ]
  },
  {
   "cell_type": "code",
   "execution_count": null,
   "id": "bc0247b9-e6c1-4ad0-8a71-cbe5eb6b99c9",
   "metadata": {},
   "outputs": [],
   "source": []
  }
 ],
 "metadata": {
  "kernelspec": {
   "display_name": "Pytorch",
   "language": "python",
   "name": "pytorch"
  },
  "language_info": {
   "codemirror_mode": {
    "name": "ipython",
    "version": 3
   },
   "file_extension": ".py",
   "mimetype": "text/x-python",
   "name": "python",
   "nbconvert_exporter": "python",
   "pygments_lexer": "ipython3",
   "version": "3.9.20"
  }
 },
 "nbformat": 4,
 "nbformat_minor": 5
}
