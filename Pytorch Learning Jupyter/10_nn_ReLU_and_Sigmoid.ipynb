{
 "cells": [
  {
   "cell_type": "code",
   "execution_count": 23,
   "id": "3ad4d7d4-6704-4065-bd56-ec3b383a70d5",
   "metadata": {},
   "outputs": [],
   "source": [
    "# torch.nn.ReLU\n",
    "#     inplace=False          是否原地修改"
   ]
  },
  {
   "cell_type": "code",
   "execution_count": 24,
   "id": "ab07c71d-c1bd-4e93-9034-239177ebb1ab",
   "metadata": {},
   "outputs": [],
   "source": [
    "import torch\n",
    "import torchvision\n",
    "from torch.utils.data import DataLoader\n",
    "from torch.utils.tensorboard import SummaryWriter\n",
    "from torch import nn\n",
    "from torch.nn import ReLU\n",
    "from torch.nn import Sigmoid"
   ]
  },
  {
   "cell_type": "code",
   "execution_count": 25,
   "id": "7a0c7eec-9d67-4c3f-9ab5-63f25dfdb1ff",
   "metadata": {},
   "outputs": [],
   "source": [
    "class Tudui(nn.Module):\n",
    "    def __init__(self):\n",
    "        super(Tudui, self).__init__()\n",
    "        self.relu1 = ReLU()\n",
    "        self.sigmoid1 = Sigmoid()\n",
    "\n",
    "    def forward(self, input):\n",
    "        # output = self.relu1(input)\n",
    "        output = self.sigmoid1(input)\n",
    "        return output"
   ]
  },
  {
   "cell_type": "code",
   "execution_count": 26,
   "id": "04d1493f-f916-4aa4-9c56-c0da6fe6ac36",
   "metadata": {},
   "outputs": [
    {
     "name": "stdout",
     "output_type": "stream",
     "text": [
      "Files already downloaded and verified\n"
     ]
    }
   ],
   "source": [
    "dataset = torchvision.datasets.CIFAR10(\"../datasets/CIFAR10\", train = False, download = True,\n",
    "                              transform = torchvision.transforms.ToTensor())\n",
    "dataloade = DataLoader(dataset, batch_size = 64)\n",
    "writer = SummaryWriter(\"../logs/10_nn_ReLU_and_Sigmoid\")"
   ]
  },
  {
   "cell_type": "code",
   "execution_count": 27,
   "id": "5218ee6e-e19f-4375-babf-ddcb0cc23899",
   "metadata": {},
   "outputs": [
    {
     "name": "stdout",
     "output_type": "stream",
     "text": [
      "torch.Size([64, 3, 32, 32])\n",
      "tensor([[[[ 1.0000, -0.5000],\n",
      "          [-1.0000,  3.0000]]]])\n",
      "tensor([[[[0.7311, 0.3775],\n",
      "          [0.2689, 0.9526]]]])\n"
     ]
    }
   ],
   "source": [
    "input = torch.tensor([[1.0, -0.5],\n",
    "                      [-1.0, 3.0]])\n",
    "input = torch.reshape(input, (-1, 1, 2, 2))\n",
    "print(output.shape)\n",
    "print(input)\n",
    "\n",
    "tudui = Tudui()\n",
    "output = tudui(input)\n",
    "print(output)"
   ]
  },
  {
   "cell_type": "code",
   "execution_count": 29,
   "id": "2791c94e-58a5-42ce-a74a-d1dbdf7fc4d1",
   "metadata": {},
   "outputs": [],
   "source": [
    "step = 0\n",
    "for data in dataloade:\n",
    "    if step > 50:\n",
    "        break\n",
    "    imgs, targets = data\n",
    "    output = tudui(imgs)\n",
    "    writer.add_images(\"input\", imgs, step)\n",
    "    writer.add_images(\"Sigmoid\", output, step)\n",
    "    step += 1\n",
    "\n",
    "writer.close()"
   ]
  },
  {
   "cell_type": "code",
   "execution_count": null,
   "id": "62cb83ed-0449-4edf-a672-3e5c6276bf0c",
   "metadata": {},
   "outputs": [],
   "source": []
  }
 ],
 "metadata": {
  "kernelspec": {
   "display_name": "Pytorch",
   "language": "python",
   "name": "pytorch"
  },
  "language_info": {
   "codemirror_mode": {
    "name": "ipython",
    "version": 3
   },
   "file_extension": ".py",
   "mimetype": "text/x-python",
   "name": "python",
   "nbconvert_exporter": "python",
   "pygments_lexer": "ipython3",
   "version": "3.9.20"
  }
 },
 "nbformat": 4,
 "nbformat_minor": 5
}
