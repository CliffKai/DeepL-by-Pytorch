{
 "cells": [
  {
   "cell_type": "code",
   "execution_count": null,
   "id": "d7a5c299-ff96-4979-bf9d-8d16896a2b89",
   "metadata": {},
   "outputs": [],
   "source": [
    "# nn.Sequential\n",
    "#     是一个容器（容器模块），会按照定义的顺序，把多个 nn.Module（层）组合在一起，前向传播时自动按顺序执行"
   ]
  },
  {
   "cell_type": "code",
   "execution_count": 1,
   "id": "65f5938e-fb42-4877-9291-9ac9df6ce04c",
   "metadata": {
    "ExecuteTime": {
     "end_time": "2025-04-15T03:01:16.662171Z",
     "start_time": "2025-04-15T03:01:16.659412Z"
    }
   },
   "outputs": [],
   "source": [
    "# 用法1:\n",
    "# nn.Sequential(\n",
    "#     nn.Conv2d(3, 16, kernel_size=3, padding=1),\n",
    "#     nn.BatchNorm2d(16),\n",
    "#     nn.ReLU(),\n",
    "#     nn.MaxPool2d(2, 2)\n",
    "# )\n",
    "\n",
    "# 用法2（推荐）:\n",
    "# from collections import OrderedDict\n",
    "# nn.Sequential(OrderedDict([\n",
    "#     ('conv', nn.Conv2d(3, 16, 3, padding=1)),\n",
    "#     ('bn', nn.BatchNorm2d(16)),\n",
    "#     ('relu', nn.ReLU()),\n",
    "#     ('pool', nn.MaxPool2d(2, 2))\n",
    "# ]))\n",
    "\n",
    "# 更推荐用法2的原因：\n",
    "# 1. 可以通过名字访问每一层，方便调试和修改\n",
    "    # model['conv1']  # 立刻知道是卷积层\n",
    "    # model['relu1']  # 清晰知道是哪一层\n",
    "# 2.可按名字访问/替换层，调试更方便\n",
    "    # model['relu1'] = nn.LeakyReLU()\n",
    "# 3.与 state_dict() 更好配合\n",
    "    # state_dict() 是模型中所有可学习参数（权重和偏置）以及某些缓冲（如 BatchNorm 的 running_mean）的字典表示。\n",
    "    # 它是 PyTorch 保存/加载模型的核心机制，格式为：\n",
    "    #     OrderedDict({\n",
    "    #     'layer_name.parameter_name': tensor\n",
    "    #     })\n",
    "    # 在查看模型参数时，使用 OrderedDict 可以更清晰地看到每一层的参数名称和对应的 tensor。\n",
    "    # from collections import OrderedDict\n",
    "    # \n",
    "    # model = nn.Sequential(OrderedDict([\n",
    "    #     ('conv1', nn.Conv2d(3, 16, 3)),\n",
    "    #     ('relu1', nn.ReLU()),\n",
    "    #     ('conv2', nn.Conv2d(16, 32, 3))\n",
    "    # ]))\n",
    "    # \n",
    "    # for name, param in model.state_dict().items():\n",
    "    #     print(name)\n",
    "    # 上述代码输出如下：\n",
    "    #     conv1.weight\n",
    "    #     conv1.bias\n",
    "    #     conv2.weight\n",
    "    #     conv2.bias\n",
    "# 4.支持模型可视化工具\n",
    "    # 如使用 torchsummary 或 torchviz、TensorBoard 可视化时，命名的层更容易在图中被标记出来，结构层次一目了然。"
   ]
  },
  {
   "cell_type": "markdown",
   "id": "87132c98-37f2-427d-9565-53d2a86484f3",
   "metadata": {},
   "source": [
    "本次教程使用LeNet作为示例，想了解[LeNet](https://zh.d2l.ai/chapter_convolutional-neural-networks/lenet.html)的可以直接点击链接学习。   \n",
    "LeNet的结构如下：   \n",
    "![LeNet结构](./images/Structure-of-LeNet-5.png).  "
   ]
  },
  {
   "cell_type": "code",
   "execution_count": null,
   "id": "c61c2976-3a2a-47ba-9f44-c50ddb7a300e",
   "metadata": {},
   "outputs": [],
   "source": []
  }
 ],
 "metadata": {
  "kernelspec": {
   "display_name": "Pytorch",
   "language": "python",
   "name": "pytorch"
  },
  "language_info": {
   "codemirror_mode": {
    "name": "ipython",
    "version": 3
   },
   "file_extension": ".py",
   "mimetype": "text/x-python",
   "name": "python",
   "nbconvert_exporter": "python",
   "pygments_lexer": "ipython3",
   "version": "3.9.20"
  }
 },
 "nbformat": 4,
 "nbformat_minor": 5
}
