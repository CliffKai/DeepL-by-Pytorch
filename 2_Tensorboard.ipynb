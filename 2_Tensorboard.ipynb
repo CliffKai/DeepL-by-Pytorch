{
 "cells": [
  {
   "cell_type": "code",
   "execution_count": 42,
   "id": "1a801877-265a-4e14-8a7a-f6ce1735a6e8",
   "metadata": {},
   "outputs": [],
   "source": [
    "from torch.utils.tensorboard import SummaryWriter\n",
    "import os\n",
    "from PIL import Image\n",
    "import torch\n",
    "from torchvision import transforms, utils\n",
    "import math"
   ]
  },
  {
   "cell_type": "code",
   "execution_count": 24,
   "id": "1c0d6384-a0a6-4eb6-8990-d42574a2335c",
   "metadata": {},
   "outputs": [],
   "source": [
    "writer = SummaryWriter(\"../logs/2_Tensorboard\")"
   ]
  },
  {
   "cell_type": "code",
   "execution_count": 25,
   "id": "774eb421-07a6-4366-8c11-b4d3f2af8905",
   "metadata": {},
   "outputs": [],
   "source": [
    "# 常用步骤为以下三步\n",
    "# 1 2 添加\n",
    "# writer.add_image()\n",
    "# writer.add_scalar()\n",
    "# 3 close\n",
    "# writer.close()"
   ]
  },
  {
   "cell_type": "code",
   "execution_count": 26,
   "id": "9d0d87b1-9357-4bf0-b98e-6bf61de90cd6",
   "metadata": {},
   "outputs": [],
   "source": [
    "# 如何添加函数图像\n",
    "# writer.add_scalar()\n",
    "    # def add_scalar(\n",
    "    #     self,\n",
    "    #     tag,                图表title\n",
    "    #     scalar_value,       图标数值 y轴\n",
    "    #     global_step=None,   步数 x轴\n",
    "    #     walltime=None,\n",
    "    #     new_style=False,\n",
    "    #     double_precision=False,\n",
    "    # ):\n",
    "\n",
    "for i in range(100):\n",
    "    # 不同的tag会绘制到不同的表中，不用怕串\n",
    "    # writer.add_scalar(\"y = x\", i, i)\n",
    "    writer.add_scalar(\"y = 2x\", 2 * i, i)"
   ]
  },
  {
   "cell_type": "code",
   "execution_count": 27,
   "id": "bc8bfc0e-bd13-4620-87b7-5fc4fe822422",
   "metadata": {},
   "outputs": [],
   "source": [
    "# 如何添加图像\n",
    "# writer.add_image()\n",
    "    # def add_image(\n",
    "    #     self, \n",
    "    #     tag,                 图title\n",
    "    #     img_tensor,          图数据，需要：torch.Tensor, numpy.ndarray, or string/blobname 类型\n",
    "    #     global_step=None, \n",
    "    #     walltime=None, \n",
    "    #     dataformats=\"CHW\"。  img_tensor默认尺寸为(3, H, W)，3通道H高度W宽度。如果是其他形状需要使用dataformats变量来进行说明。\n",
    "    # ):"
   ]
  },
  {
   "cell_type": "code",
   "execution_count": 28,
   "id": "b8c218de-4204-43c2-a3f7-447a0e52576a",
   "metadata": {},
   "outputs": [],
   "source": [
    "image_path = \"../data/train/ants_image\""
   ]
  },
  {
   "cell_type": "code",
   "execution_count": 29,
   "id": "65bd124e-7028-412f-9bf5-0b4bd1d01ba1",
   "metadata": {},
   "outputs": [],
   "source": [
    "# 定义图像预处理变换：调整为统一大小并转换为Tensor格式\n",
    "# 这一部分详细内容看3_Transforms\n",
    "transform = transforms.Compose([\n",
    "    transforms.Resize((256, 256)),  # 调整图片大小\n",
    "    transforms.ToTensor()           # 转换为Tensor\n",
    "])"
   ]
  },
  {
   "cell_type": "code",
   "execution_count": 30,
   "id": "11bd0e50-9401-4e49-91d2-04bbfbbf3910",
   "metadata": {},
   "outputs": [],
   "source": [
    "# 获取 image_path 文件夹下的所有文件名\n",
    "image_files = os.listdir(image_path)\n",
    "# 用于存储所有图片的Tensor\n",
    "images_list = []"
   ]
  },
  {
   "cell_type": "code",
   "execution_count": 31,
   "id": "6a0e2eb5-e70c-4348-b1e5-38a8af83048a",
   "metadata": {},
   "outputs": [],
   "source": [
    "# 遍历所有文件，将图片打开、预处理后保存到列表中\n",
    "for file_name in image_files:\n",
    "    full_path = os.path.join(image_path, file_name)\n",
    "    # 打开图片，并确保转换为RGB模式（确保一致性）\n",
    "    img_pil = Image.open(full_path).convert(\"RGB\")\n",
    "    # 应用预处理变换，将PIL Image转换为Tensor\n",
    "    img_tensor = transform(img_pil)\n",
    "    images_list.append(img_tensor)"
   ]
  },
  {
   "cell_type": "code",
   "execution_count": 32,
   "id": "1c7bdf53-0411-41b4-924e-1e306089e9b9",
   "metadata": {},
   "outputs": [],
   "source": [
    "# 将列表中所有的Tensor堆叠成一个Tensor，形状为 [N, C, H, W]\n",
    "img = torch.stack(images_list)"
   ]
  },
  {
   "cell_type": "code",
   "execution_count": 38,
   "id": "a1c835cf-2dc8-436c-bc67-8152eae6eddf",
   "metadata": {},
   "outputs": [],
   "source": [
    "# 定义每个 global_step 下要显示的图片数量\n",
    "img_num = 8  # 这里可以按需要调整"
   ]
  },
  {
   "cell_type": "code",
   "execution_count": 39,
   "id": "9645c30a-3801-4629-a01d-57fc4c1312a7",
   "metadata": {},
   "outputs": [],
   "source": [
    "# 总图片数\n",
    "total_images = img.size(0)"
   ]
  },
  {
   "cell_type": "code",
   "execution_count": 43,
   "id": "0cbdae1e-62b2-4e05-9dda-738756295a45",
   "metadata": {},
   "outputs": [],
   "source": [
    "# 按 img_num 数量对图片进行分组，每个分组对应一个 global_step\n",
    "num_steps = math.ceil(total_images / img_num)"
   ]
  },
  {
   "cell_type": "code",
   "execution_count": 44,
   "id": "421513a8-01a3-4599-af9e-2bea4c6a6716",
   "metadata": {},
   "outputs": [
    {
     "name": "stdout",
     "output_type": "stream",
     "text": [
      "写入 global_step = 0, 图片索引范围：[0, 8)\n",
      "写入 global_step = 1, 图片索引范围：[8, 16)\n",
      "写入 global_step = 2, 图片索引范围：[16, 24)\n",
      "写入 global_step = 3, 图片索引范围：[24, 32)\n",
      "写入 global_step = 4, 图片索引范围：[32, 40)\n",
      "写入 global_step = 5, 图片索引范围：[40, 48)\n",
      "写入 global_step = 6, 图片索引范围：[48, 56)\n",
      "写入 global_step = 7, 图片索引范围：[56, 64)\n",
      "写入 global_step = 8, 图片索引范围：[64, 72)\n",
      "写入 global_step = 9, 图片索引范围：[72, 80)\n",
      "写入 global_step = 10, 图片索引范围：[80, 88)\n",
      "写入 global_step = 11, 图片索引范围：[88, 96)\n",
      "写入 global_step = 12, 图片索引范围：[96, 104)\n",
      "写入 global_step = 13, 图片索引范围：[104, 112)\n",
      "写入 global_step = 14, 图片索引范围：[112, 120)\n",
      "写入 global_step = 15, 图片索引范围：[120, 124)\n"
     ]
    }
   ],
   "source": [
    "for step in range(num_steps):\n",
    "    # 计算当前批次的起始和结束索引\n",
    "    start_idx = step * img_num\n",
    "    end_idx = min((step + 1) * img_num, total_images)\n",
    "    \n",
    "    # 从总图片中切出当前批次\n",
    "    subset = img[start_idx:end_idx]\n",
    "    \n",
    "    # 生成图片网格, nrow 参数可以根据需要调整，这里简单使用 img_num 或计算一个较为合理的行数\n",
    "    grid = utils.make_grid(subset, nrow=int(math.sqrt(img_num)))\n",
    "    \n",
    "    # 将当前图片网格写入 TensorBoard，并以当前 step 作为 global_step\n",
    "    writer.add_image(\"All_Images\", grid, global_step=step)\n",
    "    \n",
    "    print(f\"写入 global_step = {step}, 图片索引范围：[{start_idx}, {end_idx})\")"
   ]
  },
  {
   "cell_type": "code",
   "execution_count": 45,
   "id": "1803a3f5-ff33-440b-ad53-c4df7d062cc9",
   "metadata": {},
   "outputs": [],
   "source": [
    "writer.close()"
   ]
  },
  {
   "cell_type": "code",
   "execution_count": null,
   "id": "3aab96fb-6040-4218-ae36-9cfc8f261220",
   "metadata": {},
   "outputs": [],
   "source": []
  }
 ],
 "metadata": {
  "kernelspec": {
   "display_name": "Pytorch",
   "language": "python",
   "name": "pytorch"
  },
  "language_info": {
   "codemirror_mode": {
    "name": "ipython",
    "version": 3
   },
   "file_extension": ".py",
   "mimetype": "text/x-python",
   "name": "python",
   "nbconvert_exporter": "python",
   "pygments_lexer": "ipython3",
   "version": "3.9.20"
  }
 },
 "nbformat": 4,
 "nbformat_minor": 5
}
