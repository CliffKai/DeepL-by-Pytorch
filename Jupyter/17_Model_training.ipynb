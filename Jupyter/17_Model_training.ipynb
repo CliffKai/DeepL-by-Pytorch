{
 "cells": [
  {
   "cell_type": "code",
   "execution_count": 1,
   "id": "531c72ad-3f12-41a1-8565-dd15171c8300",
   "metadata": {},
   "outputs": [],
   "source": [
    "# 介绍一个函数，在分类问题中常用\n",
    "# torch.argmax\n",
    "#     input,                   输入张量\n",
    "#     dim=None,                指定沿哪个维度找最大值的位置（默认：展平成1维后求最大值索引）\n",
    "#     keepdim=False            是否保持原始维度（True返回shape中保留该dim维)\n",
    "\n",
    "# 示例：\n",
    "    # x = torch.tensor([[1, 5, 2],\n",
    "    #                   [7, 3, 9]])\n",
    "    # # 按行取最大值的索引（dim=1）\n",
    "    # row_max_idx = torch.argmax(x, dim=1)\n",
    "    # print(row_max_idx)  # tensor([1, 2]) -> 每行最大值索引位置\n",
    "    \n",
    "    # # 按列取最大值的索引（dim=0）\n",
    "    # col_max_idx = torch.argmax(x, dim=0)\n",
    "    # print(col_max_idx)  # tensor([1, 0, 1]) -> 每列最大值索引位置"
   ]
  },
  {
   "cell_type": "code",
   "execution_count": 2,
   "id": "ca86339f-937b-4661-b4c1-8011c046e289",
   "metadata": {},
   "outputs": [],
   "source": [
    "import torch\n",
    "import torchvision\n",
    "from torch import nn\n",
    "from torch.utils.tensorboard import SummaryWriter\n",
    "from collections import OrderedDict\n",
    "from Model_save import *"
   ]
  },
  {
   "cell_type": "code",
   "execution_count": 3,
   "id": "3edd555d-b12b-4fca-962a-62d0993f0d6b",
   "metadata": {},
   "outputs": [
    {
     "name": "stdout",
     "output_type": "stream",
     "text": [
      "Files already downloaded and verified\n",
      "Files already downloaded and verified\n",
      "训练数据集长度为：50000\n",
      "测试数据集长度为：10000\n"
     ]
    }
   ],
   "source": [
    "# 准备数据集\n",
    "train_data = torchvision.datasets.CIFAR10(\"../datasets/CIFAR10/\", train = True, \n",
    "                                          transform = torchvision.transforms.ToTensor(), download = True)\n",
    "val_data = torchvision.datasets.CIFAR10(\"../datasets/CIFAR10/\", train = False, \n",
    "                                          transform = torchvision.transforms.ToTensor(), download = True)\n",
    "\n",
    "# 查看数据集大小\n",
    "train_data_size = len(train_data)\n",
    "val_data_size = len(val_data)\n",
    "print(\"训练数据集长度为：{}\".format(train_data_size))\n",
    "print(\"测试数据集长度为：{}\".format(val_data_size))\n",
    "\n",
    "# 加载数据集\n",
    "train_dataloader = torch.utils.data.DataLoader(train_data, batch_size = 64)\n",
    "val_dataloader = torch.utils.data.DataLoader(val_data, batch_size = 64)"
   ]
  },
  {
   "cell_type": "code",
   "execution_count": 4,
   "id": "29805b17-daed-4935-a5ab-b1daca88bd8f",
   "metadata": {},
   "outputs": [],
   "source": [
    "# 搭建神经网络:网络见 Model_save.py\n",
    "# 创建网络模型\n",
    "model = LeNet_5()\n",
    "# input = torch.ones((64, 3, 32, 32))\n",
    "# print(model(input).shape)"
   ]
  },
  {
   "cell_type": "code",
   "execution_count": 5,
   "id": "d41aec30-1f79-4177-9cec-3164bf6e5f3b",
   "metadata": {},
   "outputs": [],
   "source": [
    "# 创建损失函数\n",
    "loss_fn = nn.CrossEntropyLoss()"
   ]
  },
  {
   "cell_type": "code",
   "execution_count": 6,
   "id": "bd0cb7a9-7db0-4d19-bb76-162812d6354a",
   "metadata": {},
   "outputs": [],
   "source": [
    "# 定义优化器\n",
    "# learning_rate = 0.01\n",
    "# 1e-2 == 1 * (10)^(-2)\n",
    "learning_rate = 1e-2\n",
    "optimizer = torch.optim.SGD(model.parameters(), lr = learning_rate,)"
   ]
  },
  {
   "cell_type": "code",
   "execution_count": 7,
   "id": "d7075ea4-1126-45fe-ac0e-9cc8fea36fda",
   "metadata": {},
   "outputs": [],
   "source": [
    "# 设置训练网络的一些参数\n",
    "# 记录训练的次数\n",
    "total_train_step = 0\n",
    "# 记录测试的次数\n",
    "total_test_step = 0\n",
    "# 记录训练的次数\n",
    "epoch = 10\n",
    "# 绘制训练图像\n",
    "writer = SummaryWriter(\"../logs/17_Model_training\")"
   ]
  },
  {
   "cell_type": "code",
   "execution_count": 8,
   "id": "6a196598-9115-4952-8a82-f01aef75ccb3",
   "metadata": {},
   "outputs": [
    {
     "name": "stdout",
     "output_type": "stream",
     "text": [
      "-----------------第 1 轮训练开始-----------------\n",
      "训练次数:100, loss:2.2855606079101562\n",
      "训练次数:200, loss:2.2785608768463135\n",
      "训练次数:300, loss:2.242176055908203\n",
      "训练次数:400, loss:2.156294345855713\n",
      "训练次数:500, loss:2.0516607761383057\n",
      "训练次数:600, loss:2.056602954864502\n",
      "训练次数:700, loss:1.9835290908813477\n",
      "整体测试集上的loss:313.39422714710236\n",
      "整体测试集上的正确率:0.2784000039100647\n",
      "模型已保存\n",
      "-----------------第 2 轮训练开始-----------------\n",
      "训练次数:800, loss:1.8645280599594116\n"
     ]
    },
    {
     "ename": "KeyboardInterrupt",
     "evalue": "",
     "output_type": "error",
     "traceback": [
      "\u001b[0;31m---------------------------------------------------------------------------\u001b[0m",
      "\u001b[0;31mKeyboardInterrupt\u001b[0m                         Traceback (most recent call last)",
      "Cell \u001b[0;32mIn[8], line 16\u001b[0m\n\u001b[1;32m     14\u001b[0m \u001b[38;5;66;03m# 优化优化模型\u001b[39;00m\n\u001b[1;32m     15\u001b[0m optimizer\u001b[38;5;241m.\u001b[39mzero_grad()\n\u001b[0;32m---> 16\u001b[0m \u001b[43mloss\u001b[49m\u001b[38;5;241;43m.\u001b[39;49m\u001b[43mbackward\u001b[49m\u001b[43m(\u001b[49m\u001b[43m)\u001b[49m\n\u001b[1;32m     17\u001b[0m optimizer\u001b[38;5;241m.\u001b[39mstep()\n\u001b[1;32m     19\u001b[0m \u001b[38;5;66;03m# 查看训练结果\u001b[39;00m\n",
      "File \u001b[0;32m/opt/anaconda3/envs/Pytorch/lib/python3.9/site-packages/torch/_tensor.py:581\u001b[0m, in \u001b[0;36mTensor.backward\u001b[0;34m(self, gradient, retain_graph, create_graph, inputs)\u001b[0m\n\u001b[1;32m    571\u001b[0m \u001b[38;5;28;01mif\u001b[39;00m has_torch_function_unary(\u001b[38;5;28mself\u001b[39m):\n\u001b[1;32m    572\u001b[0m     \u001b[38;5;28;01mreturn\u001b[39;00m handle_torch_function(\n\u001b[1;32m    573\u001b[0m         Tensor\u001b[38;5;241m.\u001b[39mbackward,\n\u001b[1;32m    574\u001b[0m         (\u001b[38;5;28mself\u001b[39m,),\n\u001b[0;32m   (...)\u001b[0m\n\u001b[1;32m    579\u001b[0m         inputs\u001b[38;5;241m=\u001b[39minputs,\n\u001b[1;32m    580\u001b[0m     )\n\u001b[0;32m--> 581\u001b[0m \u001b[43mtorch\u001b[49m\u001b[38;5;241;43m.\u001b[39;49m\u001b[43mautograd\u001b[49m\u001b[38;5;241;43m.\u001b[39;49m\u001b[43mbackward\u001b[49m\u001b[43m(\u001b[49m\n\u001b[1;32m    582\u001b[0m \u001b[43m    \u001b[49m\u001b[38;5;28;43mself\u001b[39;49m\u001b[43m,\u001b[49m\u001b[43m \u001b[49m\u001b[43mgradient\u001b[49m\u001b[43m,\u001b[49m\u001b[43m \u001b[49m\u001b[43mretain_graph\u001b[49m\u001b[43m,\u001b[49m\u001b[43m \u001b[49m\u001b[43mcreate_graph\u001b[49m\u001b[43m,\u001b[49m\u001b[43m \u001b[49m\u001b[43minputs\u001b[49m\u001b[38;5;241;43m=\u001b[39;49m\u001b[43minputs\u001b[49m\n\u001b[1;32m    583\u001b[0m \u001b[43m\u001b[49m\u001b[43m)\u001b[49m\n",
      "File \u001b[0;32m/opt/anaconda3/envs/Pytorch/lib/python3.9/site-packages/torch/autograd/__init__.py:347\u001b[0m, in \u001b[0;36mbackward\u001b[0;34m(tensors, grad_tensors, retain_graph, create_graph, grad_variables, inputs)\u001b[0m\n\u001b[1;32m    342\u001b[0m     retain_graph \u001b[38;5;241m=\u001b[39m create_graph\n\u001b[1;32m    344\u001b[0m \u001b[38;5;66;03m# The reason we repeat the same comment below is that\u001b[39;00m\n\u001b[1;32m    345\u001b[0m \u001b[38;5;66;03m# some Python versions print out the first line of a multi-line function\u001b[39;00m\n\u001b[1;32m    346\u001b[0m \u001b[38;5;66;03m# calls in the traceback and some print out the last line\u001b[39;00m\n\u001b[0;32m--> 347\u001b[0m \u001b[43m_engine_run_backward\u001b[49m\u001b[43m(\u001b[49m\n\u001b[1;32m    348\u001b[0m \u001b[43m    \u001b[49m\u001b[43mtensors\u001b[49m\u001b[43m,\u001b[49m\n\u001b[1;32m    349\u001b[0m \u001b[43m    \u001b[49m\u001b[43mgrad_tensors_\u001b[49m\u001b[43m,\u001b[49m\n\u001b[1;32m    350\u001b[0m \u001b[43m    \u001b[49m\u001b[43mretain_graph\u001b[49m\u001b[43m,\u001b[49m\n\u001b[1;32m    351\u001b[0m \u001b[43m    \u001b[49m\u001b[43mcreate_graph\u001b[49m\u001b[43m,\u001b[49m\n\u001b[1;32m    352\u001b[0m \u001b[43m    \u001b[49m\u001b[43minputs\u001b[49m\u001b[43m,\u001b[49m\n\u001b[1;32m    353\u001b[0m \u001b[43m    \u001b[49m\u001b[43mallow_unreachable\u001b[49m\u001b[38;5;241;43m=\u001b[39;49m\u001b[38;5;28;43;01mTrue\u001b[39;49;00m\u001b[43m,\u001b[49m\n\u001b[1;32m    354\u001b[0m \u001b[43m    \u001b[49m\u001b[43maccumulate_grad\u001b[49m\u001b[38;5;241;43m=\u001b[39;49m\u001b[38;5;28;43;01mTrue\u001b[39;49;00m\u001b[43m,\u001b[49m\n\u001b[1;32m    355\u001b[0m \u001b[43m\u001b[49m\u001b[43m)\u001b[49m\n",
      "File \u001b[0;32m/opt/anaconda3/envs/Pytorch/lib/python3.9/site-packages/torch/autograd/graph.py:825\u001b[0m, in \u001b[0;36m_engine_run_backward\u001b[0;34m(t_outputs, *args, **kwargs)\u001b[0m\n\u001b[1;32m    823\u001b[0m     unregister_hooks \u001b[38;5;241m=\u001b[39m _register_logging_hooks_on_whole_graph(t_outputs)\n\u001b[1;32m    824\u001b[0m \u001b[38;5;28;01mtry\u001b[39;00m:\n\u001b[0;32m--> 825\u001b[0m     \u001b[38;5;28;01mreturn\u001b[39;00m \u001b[43mVariable\u001b[49m\u001b[38;5;241;43m.\u001b[39;49m\u001b[43m_execution_engine\u001b[49m\u001b[38;5;241;43m.\u001b[39;49m\u001b[43mrun_backward\u001b[49m\u001b[43m(\u001b[49m\u001b[43m  \u001b[49m\u001b[38;5;66;43;03m# Calls into the C++ engine to run the backward pass\u001b[39;49;00m\n\u001b[1;32m    826\u001b[0m \u001b[43m        \u001b[49m\u001b[43mt_outputs\u001b[49m\u001b[43m,\u001b[49m\u001b[43m \u001b[49m\u001b[38;5;241;43m*\u001b[39;49m\u001b[43margs\u001b[49m\u001b[43m,\u001b[49m\u001b[43m \u001b[49m\u001b[38;5;241;43m*\u001b[39;49m\u001b[38;5;241;43m*\u001b[39;49m\u001b[43mkwargs\u001b[49m\n\u001b[1;32m    827\u001b[0m \u001b[43m    \u001b[49m\u001b[43m)\u001b[49m  \u001b[38;5;66;03m# Calls into the C++ engine to run the backward pass\u001b[39;00m\n\u001b[1;32m    828\u001b[0m \u001b[38;5;28;01mfinally\u001b[39;00m:\n\u001b[1;32m    829\u001b[0m     \u001b[38;5;28;01mif\u001b[39;00m attach_logging_hooks:\n",
      "\u001b[0;31mKeyboardInterrupt\u001b[0m: "
     ]
    }
   ],
   "source": [
    "# 开始训练\n",
    "for i in range(epoch):\n",
    "    print(\"-----------------第 {} 轮训练开始-----------------\".format(i + 1))\n",
    "\n",
    "    # 训练步骤开始\n",
    "    model.train()\n",
    "    for data in train_dataloader:\n",
    "        imgs, targets = data\n",
    "        outputs = model(imgs)\n",
    "        # print(outputs.shape)\n",
    "        # print(targets.shape)\n",
    "        loss = loss_fn(outputs, targets)\n",
    "\n",
    "        # 优化优化模型\n",
    "        optimizer.zero_grad()\n",
    "        loss.backward()\n",
    "        optimizer.step()\n",
    "\n",
    "        # 查看训练结果\n",
    "        total_train_step += 1\n",
    "        if total_train_step % 100 == 0:\n",
    "            print(\"训练次数:{}, loss:{}\".format(total_train_step, loss.item()))\n",
    "            writer.add_scalar(\"train_loss\", loss.item(), total_train_step)\n",
    "\n",
    "\n",
    "    model.eval()\n",
    "    # 每一轮训练结束之后在测试集上验证模型的效果，对模型进行评估，在测试集上不对模型进行调优\n",
    "    # 在with下不会再进行梯度的计算\n",
    "    total_test_loss = 0\n",
    "    with torch.no_grad():\n",
    "        right_sum = 0\n",
    "        for data in val_dataloader:\n",
    "            imgs, targets = data\n",
    "            outputs = model(imgs)\n",
    "            loss = loss_fn(outputs, targets)\n",
    "            total_test_loss += loss.item()\n",
    "            outputs = torch.argmax(outputs, dim = 1)\n",
    "            # print((outputs == targets).sum())\n",
    "            # print(outputs)\n",
    "            right_sum += (outputs == targets).sum()\n",
    "        print(\"整体测试集上的loss:{}\".format(total_test_loss)) \n",
    "        writer.add_scalar(\"test_loss\", total_test_loss, total_test_step)\n",
    "        print(\"整体测试集上的正确率:{}\".format(right_sum / 10000)) # 测试集有10000张图片\n",
    "        writer.add_scalar(\"test_accuracy\", right_sum / 10000, total_test_step)\n",
    "        total_test_step += 1\n",
    "\n",
    "    # 每一轮训练完需要保存当前模型\n",
    "    # 方法1： \n",
    "    # torch.save(model, \"../Models/LeNet_5/LeNet_5_No_{}_Loss_{}.pth\".format(epoch, total_test_step))\n",
    "    # 方法2（更推荐）：\n",
    "    torch.save(model.state_dict(), \"../Models/LeNet_5/LeNet_5_No_{}_Loss_{}.pth\".format(epoch, total_test_loss))\n",
    "    print(\"模型已保存\")\n",
    "\n",
    "\n",
    "writer.close()"
   ]
  },
  {
   "cell_type": "code",
   "execution_count": null,
   "id": "3758fd91-cf3a-49c3-8721-a3ed4cd5ca43",
   "metadata": {},
   "outputs": [],
   "source": [
    "# 训练过程中的细节：\n",
    "# 1:\n",
    "    # model.train() 和 model.eval() 使用有需要注意的地方，有部分特定层的模型必须使用这两个函数，详情请见pytorch官方文档\n",
    "    # train(mode=True)[source][source]\n",
    "        # Set the module in training mode.\n",
    "        # This has an effect only on certain modules. See the documentation of particular modules for details of their behaviors in training/evaluation mode, i.e., whether they are affected, e.g. Dropout, BatchNorm, etc.\n"
   ]
  }
 ],
 "metadata": {
  "kernelspec": {
   "display_name": "Pytorch",
   "language": "python",
   "name": "pytorch"
  },
  "language_info": {
   "codemirror_mode": {
    "name": "ipython",
    "version": 3
   },
   "file_extension": ".py",
   "mimetype": "text/x-python",
   "name": "python",
   "nbconvert_exporter": "python",
   "pygments_lexer": "ipython3",
   "version": "3.9.20"
  }
 },
 "nbformat": 4,
 "nbformat_minor": 5
}
