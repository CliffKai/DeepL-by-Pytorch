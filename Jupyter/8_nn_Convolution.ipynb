{
 "cells": [
  {
   "cell_type": "code",
   "execution_count": 1,
   "id": "ab21b907-3681-4017-b948-6a85534789c4",
   "metadata": {},
   "outputs": [],
   "source": [
    "# torch.nn.Conv2d\n",
    "#     in_channels,              输入通道数\n",
    "#     out_channels,             输入出通道数\n",
    "#     kernel_size,              卷积核大小\n",
    "#     stride=1,                 步长\n",
    "#     padding=0,                填充\n",
    "#     dilation=1,               空洞卷积（能够扩大卷积核感知视野）\n",
    "#     groups=1, \n",
    "#     bias=True,                是否加入偏置值\n",
    "#     padding_mode='zeros',     填充值\n",
    "#     device=None, \n",
    "#     dtype=None"
   ]
  },
  {
   "cell_type": "code",
   "execution_count": 17,
   "id": "87323d31-85ea-46c1-999f-ac74e6e520c9",
   "metadata": {},
   "outputs": [],
   "source": [
    "import torch\n",
    "import torchvision\n",
    "from torch.utils.data import DataLoader\n",
    "from torch import nn\n",
    "from torch.nn import Conv2d\n",
    "from torch.utils.tensorboard import SummaryWriter"
   ]
  },
  {
   "cell_type": "code",
   "execution_count": 4,
   "id": "5da13206-614c-467c-8e43-ef582234e4df",
   "metadata": {},
   "outputs": [
    {
     "name": "stdout",
     "output_type": "stream",
     "text": [
      "Files already downloaded and verified\n"
     ]
    }
   ],
   "source": [
    "# 准备数据\n",
    "dataset = torchvision.datasets.CIFAR10(\"../datasets/CIFAR10\", train = False, transform = torchvision.transforms.ToTensor(), download = True)\n",
    "dataloader = DataLoader(dataset, batch_size = 64)"
   ]
  },
  {
   "cell_type": "code",
   "execution_count": 26,
   "id": "ec21ffa1-7a5b-4c6e-b391-d805b83f3602",
   "metadata": {},
   "outputs": [],
   "source": [
    "# 构建网络\n",
    "class Tudui(nn.Module):\n",
    "    # 将后续要用到的神经网络在此处初始化\n",
    "    def __init__(self):\n",
    "        super(Tudui, self).__init__()     # 固定的\n",
    "        # 参数说明\n",
    "        # in_channels 3 : 因为是RGB三通道的图像，所以输入通道是3\n",
    "        # out_channels 6 : 自己设置自己想要的值\n",
    "        # kernel_size 3 : 卷积核大小，自己设置自己想要的即可\n",
    "        # stride 1: 自己设置自己想要的值\n",
    "        # padding 0: 自己设置自己想要的值\n",
    "        self.conv1 = Conv2d(in_channels = 3, out_channels = 6, kernel_size = 3, stride = 1, padding = 0)\n",
    "\n",
    "    # 数据如何在流动后传出\n",
    "    def forward(self, x):\n",
    "        x = self.conv1(x)\n",
    "        return x"
   ]
  },
  {
   "cell_type": "code",
   "execution_count": 29,
   "id": "67f592aa-da02-449b-9cfc-30960839095b",
   "metadata": {},
   "outputs": [
    {
     "name": "stdout",
     "output_type": "stream",
     "text": [
      "Tudui(\n",
      "  (conv1): Conv2d(3, 6, kernel_size=(3, 3), stride=(1, 1))\n",
      ")\n",
      "No.0\n",
      "torch.Size([64, 3, 32, 32])\n",
      "torch.Size([128, 3, 30, 30])\n",
      "No.1\n",
      "torch.Size([64, 3, 32, 32])\n",
      "torch.Size([128, 3, 30, 30])\n",
      "No.2\n",
      "torch.Size([64, 3, 32, 32])\n",
      "torch.Size([128, 3, 30, 30])\n",
      "No.3\n",
      "torch.Size([64, 3, 32, 32])\n",
      "torch.Size([128, 3, 30, 30])\n",
      "No.4\n",
      "torch.Size([64, 3, 32, 32])\n",
      "torch.Size([128, 3, 30, 30])\n",
      "No.5\n",
      "torch.Size([64, 3, 32, 32])\n",
      "torch.Size([128, 3, 30, 30])\n",
      "No.6\n",
      "torch.Size([64, 3, 32, 32])\n",
      "torch.Size([128, 3, 30, 30])\n",
      "No.7\n",
      "torch.Size([64, 3, 32, 32])\n",
      "torch.Size([128, 3, 30, 30])\n",
      "No.8\n",
      "torch.Size([64, 3, 32, 32])\n",
      "torch.Size([128, 3, 30, 30])\n",
      "No.9\n",
      "torch.Size([64, 3, 32, 32])\n",
      "torch.Size([128, 3, 30, 30])\n",
      "No.10\n",
      "torch.Size([64, 3, 32, 32])\n",
      "torch.Size([128, 3, 30, 30])\n"
     ]
    }
   ],
   "source": [
    "# 使用网络\n",
    "tudui = Tudui()\n",
    "print(tudui)\n",
    "\n",
    "writer = SummaryWriter(\"../logs/8_nn_Convolution\")\n",
    "step = 0\n",
    "for data in dataloader:\n",
    "    if step > 10:\n",
    "        break\n",
    "    print(\"No.{}\".format(step))\n",
    "    imgs, targets = data\n",
    "    output = tudui(imgs)\n",
    "    # torch.Size([64, 3, 32, 32])\n",
    "    writer.add_images(\"input\", imgs, step)\n",
    "    # torch.Size([64, 6, 30, 30])\n",
    "    # tensorboard 加载图片必须是3通道的，可以修改神经网络输出通道数或reshape\n",
    "    output = torch.reshape(output, (-1, 3, 30, 30))\n",
    "    writer.add_images(\"output\", output, step)\n",
    "    print(imgs.shape)\n",
    "    print(output.shape)\n",
    "    step += 1"
   ]
  },
  {
   "cell_type": "code",
   "execution_count": null,
   "id": "1dff9557-f276-46a0-8a22-f33be5356ed2",
   "metadata": {},
   "outputs": [],
   "source": []
  }
 ],
 "metadata": {
  "kernelspec": {
   "display_name": "Pytorch",
   "language": "python",
   "name": "pytorch"
  },
  "language_info": {
   "codemirror_mode": {
    "name": "ipython",
    "version": 3
   },
   "file_extension": ".py",
   "mimetype": "text/x-python",
   "name": "python",
   "nbconvert_exporter": "python",
   "pygments_lexer": "ipython3",
   "version": "3.9.20"
  }
 },
 "nbformat": 4,
 "nbformat_minor": 5
}
