{
 "cells": [
  {
   "cell_type": "code",
   "id": "6366717e-2bb3-4056-a7f4-64592f12497e",
   "metadata": {
    "ExecuteTime": {
     "end_time": "2025-04-15T02:59:27.422692Z",
     "start_time": "2025-04-15T02:59:27.420321Z"
    }
   },
   "source": [
    "# torch.nn.MaxPool2d\n",
    "#     kernel_size,                池化核大小，与卷积核类似\n",
    "#     stride=None,                与卷积层不同，卷积层的默认步长为1，池化层中默认大小为kernel_size\n",
    "#     padding=0,                  填充，与卷积层类似\n",
    "#     dilation=1,                 空洞，与卷积层类似\n",
    "#     return_indices=False, \n",
    "#     ceil_mode=False             计算输出尺寸是否向上取整"
   ],
   "outputs": [],
   "execution_count": 3
  },
  {
   "cell_type": "code",
   "id": "06478e02-b1e9-4a64-84a2-5c01d4e10933",
   "metadata": {
    "ExecuteTime": {
     "end_time": "2025-04-15T02:59:30.624877Z",
     "start_time": "2025-04-15T02:59:29.073009Z"
    }
   },
   "source": [
    "import torch\n",
    "from torch import nn\n",
    "import torchvision\n",
    "from torch.utils.data import DataLoader\n",
    "from torch.utils.tensorboard import SummaryWriter"
   ],
   "outputs": [],
   "execution_count": 4
  },
  {
   "cell_type": "code",
   "id": "ab7eee4d-d5aa-4779-914d-27c890f3f8de",
   "metadata": {
    "ExecuteTime": {
     "end_time": "2025-04-15T02:59:32.596669Z",
     "start_time": "2025-04-15T02:59:32.591719Z"
    }
   },
   "source": [
    "class Tudui(nn.Module):\n",
    "    def __init__(self):\n",
    "        super(Tudui, self).__init__()\n",
    "        self.maxpool1 = nn.MaxPool2d(kernel_size = 3, ceil_mode = False)\n",
    "\n",
    "    def forward(self, input):\n",
    "        output = self.maxpool1(input)\n",
    "        return output"
   ],
   "outputs": [],
   "execution_count": 5
  },
  {
   "cell_type": "code",
   "id": "409d65b5-1080-4ff4-b07d-092301fdab02",
   "metadata": {
    "ExecuteTime": {
     "end_time": "2025-04-15T02:59:35.784487Z",
     "start_time": "2025-04-15T02:59:35.758055Z"
    }
   },
   "source": [
    "# 最新的pytorch已经支持对整型的池化了，但是可以学习一下这种将传入数据改为浮点数的方法\n",
    "input = torch.tensor([[1, 2, 0, 3, 1],\n",
    "                      [0, 1, 2, 3, 1],\n",
    "                      [1, 2, 1, 0, 0],\n",
    "                      [5, 2, 3, 1, 1],\n",
    "                      [2, 1, 0, 1, 1]], dtype = torch.float32)\n",
    "input = torch.reshape(input, (-1, 1, 5, 5))\n",
    "print(input.shape)\n",
    "\n",
    "tudui = Tudui()\n",
    "output = tudui(input)\n",
    "print(output)"
   ],
   "outputs": [
    {
     "name": "stdout",
     "output_type": "stream",
     "text": [
      "torch.Size([1, 1, 5, 5])\n",
      "tensor([[[[2.]]]])\n"
     ]
    }
   ],
   "execution_count": 6
  },
  {
   "cell_type": "code",
   "id": "5edb992f-4b5e-4f70-abc6-2dcb2dfc58cb",
   "metadata": {
    "ExecuteTime": {
     "end_time": "2025-04-15T02:59:41.888331Z",
     "start_time": "2025-04-15T02:59:41.141131Z"
    }
   },
   "source": [
    "dataset = torchvision.datasets.CIFAR10(\"../datasets/CIFAR10\", train = False, download = True, \n",
    "                                       transform = torchvision.transforms.ToTensor())\n",
    "dataloader = DataLoader(dataset, batch_size = 64)\n",
    "writer = SummaryWriter(\"../logs/9_nn_MaxPool\")"
   ],
   "outputs": [
    {
     "name": "stdout",
     "output_type": "stream",
     "text": [
      "Files already downloaded and verified\n"
     ]
    }
   ],
   "execution_count": 7
  },
  {
   "cell_type": "code",
   "id": "e79a8f69-ba83-4759-b6d0-6dd66aa3e421",
   "metadata": {
    "ExecuteTime": {
     "end_time": "2025-04-15T02:59:47.567553Z",
     "start_time": "2025-04-15T02:59:45.739308Z"
    }
   },
   "source": [
    "step = 0\n",
    "for data in dataloader:\n",
    "    if step > 50:\n",
    "        break\n",
    "    imgs, targets = data\n",
    "    writer.add_images(\"input\", imgs, step)\n",
    "    output = tudui(imgs)\n",
    "    writer.add_images(\"output\", output, step)\n",
    "    step += 1\n",
    "\n",
    "writer.close()"
   ],
   "outputs": [],
   "execution_count": 8
  },
  {
   "cell_type": "code",
   "execution_count": null,
   "id": "ae030a3e-e12f-46c7-90c2-cd8cf9df0ab7",
   "metadata": {},
   "outputs": [],
   "source": []
  }
 ],
 "metadata": {
  "kernelspec": {
   "display_name": "Pytorch",
   "language": "python",
   "name": "pytorch"
  },
  "language_info": {
   "codemirror_mode": {
    "name": "ipython",
    "version": 3
   },
   "file_extension": ".py",
   "mimetype": "text/x-python",
   "name": "python",
   "nbconvert_exporter": "python",
   "pygments_lexer": "ipython3",
   "version": "3.9.20"
  }
 },
 "nbformat": 4,
 "nbformat_minor": 5
}
