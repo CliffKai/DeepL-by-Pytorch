{
 "cells": [
  {
   "cell_type": "code",
   "execution_count": null,
   "id": "d5b4eb57-fc50-4a47-9bd9-cc74a81f86f9",
   "metadata": {},
   "outputs": [],
   "source": [
    "# 使用gpu训练的第一种方式\n",
    "# 调用：\n",
    "#     网络模型\n",
    "#     数据\n",
    "#     损失函数\n",
    "# 的.to(device)\n",
    "# device可以设置\n",
    "# 例如：\n",
    "    # device = torch.device(\"cpu\")\n",
    "    # device0 = torch.device(\"cuda\")  ==  device0 = torch.device(\"cuda:0\")       两者等价\n",
    "    # device1 = torch.device(\"cuda:1\")\n",
    "    # ...多卡设备以此类推"
   ]
  },
  {
   "cell_type": "code",
   "execution_count": 2,
   "id": "ca86339f-937b-4661-b4c1-8011c046e289",
   "metadata": {},
   "outputs": [],
   "source": [
    "import torch\n",
    "import torchvision\n",
    "from torch import nn\n",
    "from torch.utils.tensorboard import SummaryWriter\n",
    "from collections import OrderedDict"
   ]
  },
  {
   "cell_type": "code",
   "execution_count": 3,
   "id": "18815ae4-b194-4c08-851b-3ceaf110af88",
   "metadata": {},
   "outputs": [],
   "source": [
    "# 定义训练的设备\n",
    "device = torch.device(\"cpu\")"
   ]
  },
  {
   "cell_type": "code",
   "execution_count": 4,
   "id": "9afdeb62-2cf3-4d3c-8efa-64319a4d85fb",
   "metadata": {},
   "outputs": [],
   "source": [
    "class LeNet_5(nn.Module):\n",
    "    def __init__(self):\n",
    "        super(LeNet_5, self).__init__()\n",
    "        self.model1 = nn.Sequential(OrderedDict([\n",
    "            ('conv1', nn.Conv2d(in_channels=3, out_channels=32, kernel_size=5, padding=2)),\n",
    "            ('pool1', nn.MaxPool2d(kernel_size=2)),\n",
    "            ('conv2', nn.Conv2d(in_channels=32, out_channels=32, kernel_size=5, padding=2)),\n",
    "            ('pool2', nn.MaxPool2d(kernel_size=2)),\n",
    "            ('conv3', nn.Conv2d(in_channels=32, out_channels=64, kernel_size=5, padding=2)),\n",
    "            ('pool3', nn.MaxPool2d(kernel_size=2)),\n",
    "            ('flatten', nn.Flatten()),\n",
    "            ('fc1', nn.Linear(1024, 64)),  # 注意：1024 = 64通道 × 4 × 4（针对输入32x32）\n",
    "            ('fc2', nn.Linear(64, 10))\n",
    "        ]))\n",
    "\n",
    "    def forward(self, x):\n",
    "        return self.model1(x)"
   ]
  },
  {
   "cell_type": "code",
   "execution_count": 5,
   "id": "3edd555d-b12b-4fca-962a-62d0993f0d6b",
   "metadata": {},
   "outputs": [
    {
     "name": "stdout",
     "output_type": "stream",
     "text": [
      "Files already downloaded and verified\n",
      "Files already downloaded and verified\n",
      "训练数据集长度为：50000\n",
      "测试数据集长度为：10000\n"
     ]
    }
   ],
   "source": [
    "# 准备数据集\n",
    "train_data = torchvision.datasets.CIFAR10(\"../datasets/CIFAR10/\", train = True, \n",
    "                                          transform = torchvision.transforms.ToTensor(), download = True)\n",
    "val_data = torchvision.datasets.CIFAR10(\"../datasets/CIFAR10/\", train = False, \n",
    "                                          transform = torchvision.transforms.ToTensor(), download = True)\n",
    "\n",
    "# 如何查看数据集大小\n",
    "train_data_size = len(train_data)\n",
    "val_data_size = len(val_data)\n",
    "print(\"训练数据集长度为：{}\".format(train_data_size))\n",
    "print(\"测试数据集长度为：{}\".format(val_data_size))\n",
    "\n",
    "# 加载数据集\n",
    "train_dataloader = torch.utils.data.DataLoader(train_data, batch_size = 64)\n",
    "val_dataloader = torch.utils.data.DataLoader(val_data, batch_size = 64)"
   ]
  },
  {
   "cell_type": "code",
   "execution_count": 6,
   "id": "29805b17-daed-4935-a5ab-b1daca88bd8f",
   "metadata": {},
   "outputs": [
    {
     "data": {
      "text/plain": [
       "LeNet_5(\n",
       "  (model1): Sequential(\n",
       "    (conv1): Conv2d(3, 32, kernel_size=(5, 5), stride=(1, 1), padding=(2, 2))\n",
       "    (pool1): MaxPool2d(kernel_size=2, stride=2, padding=0, dilation=1, ceil_mode=False)\n",
       "    (conv2): Conv2d(32, 32, kernel_size=(5, 5), stride=(1, 1), padding=(2, 2))\n",
       "    (pool2): MaxPool2d(kernel_size=2, stride=2, padding=0, dilation=1, ceil_mode=False)\n",
       "    (conv3): Conv2d(32, 64, kernel_size=(5, 5), stride=(1, 1), padding=(2, 2))\n",
       "    (pool3): MaxPool2d(kernel_size=2, stride=2, padding=0, dilation=1, ceil_mode=False)\n",
       "    (flatten): Flatten(start_dim=1, end_dim=-1)\n",
       "    (fc1): Linear(in_features=1024, out_features=64, bias=True)\n",
       "    (fc2): Linear(in_features=64, out_features=10, bias=True)\n",
       "  )\n",
       ")"
      ]
     },
     "execution_count": 6,
     "metadata": {},
     "output_type": "execute_result"
    }
   ],
   "source": [
    "# 搭建神经网络:网络见 Model_save.py\n",
    "# 创建网络模型\n",
    "# 对网络模型调用.cuda()\n",
    "model = LeNet_5()\n",
    "model.to(device)\n",
    "# input = torch.ones((64, 3, 32, 32))\n",
    "# print(model(input).shape)"
   ]
  },
  {
   "cell_type": "code",
   "execution_count": 7,
   "id": "d41aec30-1f79-4177-9cec-3164bf6e5f3b",
   "metadata": {},
   "outputs": [
    {
     "data": {
      "text/plain": [
       "CrossEntropyLoss()"
      ]
     },
     "execution_count": 7,
     "metadata": {},
     "output_type": "execute_result"
    }
   ],
   "source": [
    "# 创建损失函数\n",
    "# 对损失函数调用.cuda()\n",
    "loss_fn = nn.CrossEntropyLoss()\n",
    "loss_fn.to(device)"
   ]
  },
  {
   "cell_type": "code",
   "execution_count": 8,
   "id": "bd0cb7a9-7db0-4d19-bb76-162812d6354a",
   "metadata": {},
   "outputs": [],
   "source": [
    "# 定义优化器\n",
    "# learning_rate = 0.01\n",
    "# 1e-2 == 1 * (10)^(-2)\n",
    "learning_rate = 1e-2\n",
    "optimizer = torch.optim.SGD(model.parameters(), lr = learning_rate)"
   ]
  },
  {
   "cell_type": "code",
   "execution_count": 9,
   "id": "d7075ea4-1126-45fe-ac0e-9cc8fea36fda",
   "metadata": {},
   "outputs": [],
   "source": [
    "# 设置训练网络的一些参数\n",
    "# 记录训练的次数\n",
    "total_train_step = 0\n",
    "# 记录测试的次数\n",
    "total_test_step = 0\n",
    "# 记录训练的次数\n",
    "epoch = 10\n",
    "# 绘制训练图像\n",
    "writer = SummaryWriter(\"../logs/17_Model_training\")"
   ]
  },
  {
   "cell_type": "code",
   "execution_count": 10,
   "id": "6a196598-9115-4952-8a82-f01aef75ccb3",
   "metadata": {},
   "outputs": [
    {
     "name": "stdout",
     "output_type": "stream",
     "text": [
      "-----------------第 1 轮训练开始-----------------\n",
      "训练次数:100, loss:2.2906177043914795\n",
      "训练次数:200, loss:2.284503698348999\n",
      "训练次数:300, loss:2.272411346435547\n",
      "训练次数:400, loss:2.2013771533966064\n",
      "训练次数:500, loss:2.0529770851135254\n",
      "训练次数:600, loss:2.0262060165405273\n",
      "训练次数:700, loss:2.0009243488311768\n",
      "整体测试集上的loss:313.18439841270447\n",
      "整体测试集上的正确率:0.2766000032424927\n",
      "模型已保存\n",
      "-----------------第 2 轮训练开始-----------------\n",
      "训练次数:800, loss:1.884778380393982\n",
      "训练次数:900, loss:1.8647584915161133\n",
      "训练次数:1000, loss:1.9279320240020752\n",
      "训练次数:1100, loss:1.9651657342910767\n",
      "训练次数:1200, loss:1.726826548576355\n",
      "训练次数:1300, loss:1.6961864233016968\n",
      "训练次数:1400, loss:1.7392905950546265\n",
      "训练次数:1500, loss:1.8055384159088135\n",
      "整体测试集上的loss:307.3319081068039\n",
      "整体测试集上的正确率:0.3005000054836273\n",
      "模型已保存\n",
      "-----------------第 3 轮训练开始-----------------\n",
      "训练次数:1600, loss:1.7624040842056274\n",
      "训练次数:1700, loss:1.6569727659225464\n",
      "训练次数:1800, loss:1.9193121194839478\n",
      "训练次数:1900, loss:1.7252970933914185\n",
      "训练次数:2000, loss:1.872226595878601\n",
      "训练次数:2100, loss:1.545576810836792\n",
      "训练次数:2200, loss:1.4909321069717407\n",
      "训练次数:2300, loss:1.7873990535736084\n",
      "整体测试集上的loss:276.468505859375\n",
      "整体测试集上的正确率:0.36320000886917114\n",
      "模型已保存\n",
      "-----------------第 4 轮训练开始-----------------\n",
      "训练次数:2400, loss:1.7241374254226685\n",
      "训练次数:2500, loss:1.3301076889038086\n",
      "训练次数:2600, loss:1.5794177055358887\n",
      "训练次数:2700, loss:1.7012505531311035\n",
      "训练次数:2800, loss:1.5057114362716675\n",
      "训练次数:2900, loss:1.6025617122650146\n",
      "训练次数:3000, loss:1.3646413087844849\n",
      "训练次数:3100, loss:1.5154961347579956\n",
      "整体测试集上的loss:273.0598691701889\n",
      "整体测试集上的正确率:0.374099999666214\n",
      "模型已保存\n",
      "-----------------第 5 轮训练开始-----------------\n",
      "训练次数:3200, loss:1.3414565324783325\n",
      "训练次数:3300, loss:1.4519081115722656\n",
      "训练次数:3400, loss:1.448474645614624\n",
      "训练次数:3500, loss:1.5741686820983887\n",
      "训练次数:3600, loss:1.6051791906356812\n",
      "训练次数:3700, loss:1.3443307876586914\n",
      "训练次数:3800, loss:1.298788070678711\n",
      "训练次数:3900, loss:1.442223072052002\n",
      "整体测试集上的loss:264.8167585134506\n",
      "整体测试集上的正确率:0.3982999920845032\n",
      "模型已保存\n",
      "-----------------第 6 轮训练开始-----------------\n",
      "训练次数:4000, loss:1.413630723953247\n",
      "训练次数:4100, loss:1.4623528718948364\n",
      "训练次数:4200, loss:1.4940780401229858\n",
      "训练次数:4300, loss:1.2122693061828613\n",
      "训练次数:4400, loss:1.147344946861267\n",
      "训练次数:4500, loss:1.338328242301941\n",
      "训练次数:4600, loss:1.4021179676055908\n",
      "整体测试集上的loss:252.3530935049057\n",
      "整体测试集上的正确率:0.4278999865055084\n",
      "模型已保存\n",
      "-----------------第 7 轮训练开始-----------------\n",
      "训练次数:4700, loss:1.3703254461288452\n",
      "训练次数:4800, loss:1.517967700958252\n"
     ]
    },
    {
     "ename": "KeyboardInterrupt",
     "evalue": "",
     "output_type": "error",
     "traceback": [
      "\u001b[0;31m---------------------------------------------------------------------------\u001b[0m",
      "\u001b[0;31mKeyboardInterrupt\u001b[0m                         Traceback (most recent call last)",
      "Cell \u001b[0;32mIn[10], line 12\u001b[0m\n\u001b[1;32m     10\u001b[0m imgs\u001b[38;5;241m.\u001b[39mto(device)\n\u001b[1;32m     11\u001b[0m targets\u001b[38;5;241m.\u001b[39mto(device)\n\u001b[0;32m---> 12\u001b[0m outputs \u001b[38;5;241m=\u001b[39m \u001b[43mmodel\u001b[49m\u001b[43m(\u001b[49m\u001b[43mimgs\u001b[49m\u001b[43m)\u001b[49m\n\u001b[1;32m     13\u001b[0m \u001b[38;5;66;03m# print(outputs.shape)\u001b[39;00m\n\u001b[1;32m     14\u001b[0m \u001b[38;5;66;03m# print(targets.shape)\u001b[39;00m\n\u001b[1;32m     15\u001b[0m loss \u001b[38;5;241m=\u001b[39m loss_fn(outputs, targets)\n",
      "File \u001b[0;32m/opt/anaconda3/envs/Pytorch/lib/python3.9/site-packages/torch/nn/modules/module.py:1736\u001b[0m, in \u001b[0;36mModule._wrapped_call_impl\u001b[0;34m(self, *args, **kwargs)\u001b[0m\n\u001b[1;32m   1734\u001b[0m     \u001b[38;5;28;01mreturn\u001b[39;00m \u001b[38;5;28mself\u001b[39m\u001b[38;5;241m.\u001b[39m_compiled_call_impl(\u001b[38;5;241m*\u001b[39margs, \u001b[38;5;241m*\u001b[39m\u001b[38;5;241m*\u001b[39mkwargs)  \u001b[38;5;66;03m# type: ignore[misc]\u001b[39;00m\n\u001b[1;32m   1735\u001b[0m \u001b[38;5;28;01melse\u001b[39;00m:\n\u001b[0;32m-> 1736\u001b[0m     \u001b[38;5;28;01mreturn\u001b[39;00m \u001b[38;5;28;43mself\u001b[39;49m\u001b[38;5;241;43m.\u001b[39;49m\u001b[43m_call_impl\u001b[49m\u001b[43m(\u001b[49m\u001b[38;5;241;43m*\u001b[39;49m\u001b[43margs\u001b[49m\u001b[43m,\u001b[49m\u001b[43m \u001b[49m\u001b[38;5;241;43m*\u001b[39;49m\u001b[38;5;241;43m*\u001b[39;49m\u001b[43mkwargs\u001b[49m\u001b[43m)\u001b[49m\n",
      "File \u001b[0;32m/opt/anaconda3/envs/Pytorch/lib/python3.9/site-packages/torch/nn/modules/module.py:1747\u001b[0m, in \u001b[0;36mModule._call_impl\u001b[0;34m(self, *args, **kwargs)\u001b[0m\n\u001b[1;32m   1742\u001b[0m \u001b[38;5;66;03m# If we don't have any hooks, we want to skip the rest of the logic in\u001b[39;00m\n\u001b[1;32m   1743\u001b[0m \u001b[38;5;66;03m# this function, and just call forward.\u001b[39;00m\n\u001b[1;32m   1744\u001b[0m \u001b[38;5;28;01mif\u001b[39;00m \u001b[38;5;129;01mnot\u001b[39;00m (\u001b[38;5;28mself\u001b[39m\u001b[38;5;241m.\u001b[39m_backward_hooks \u001b[38;5;129;01mor\u001b[39;00m \u001b[38;5;28mself\u001b[39m\u001b[38;5;241m.\u001b[39m_backward_pre_hooks \u001b[38;5;129;01mor\u001b[39;00m \u001b[38;5;28mself\u001b[39m\u001b[38;5;241m.\u001b[39m_forward_hooks \u001b[38;5;129;01mor\u001b[39;00m \u001b[38;5;28mself\u001b[39m\u001b[38;5;241m.\u001b[39m_forward_pre_hooks\n\u001b[1;32m   1745\u001b[0m         \u001b[38;5;129;01mor\u001b[39;00m _global_backward_pre_hooks \u001b[38;5;129;01mor\u001b[39;00m _global_backward_hooks\n\u001b[1;32m   1746\u001b[0m         \u001b[38;5;129;01mor\u001b[39;00m _global_forward_hooks \u001b[38;5;129;01mor\u001b[39;00m _global_forward_pre_hooks):\n\u001b[0;32m-> 1747\u001b[0m     \u001b[38;5;28;01mreturn\u001b[39;00m \u001b[43mforward_call\u001b[49m\u001b[43m(\u001b[49m\u001b[38;5;241;43m*\u001b[39;49m\u001b[43margs\u001b[49m\u001b[43m,\u001b[49m\u001b[43m \u001b[49m\u001b[38;5;241;43m*\u001b[39;49m\u001b[38;5;241;43m*\u001b[39;49m\u001b[43mkwargs\u001b[49m\u001b[43m)\u001b[49m\n\u001b[1;32m   1749\u001b[0m result \u001b[38;5;241m=\u001b[39m \u001b[38;5;28;01mNone\u001b[39;00m\n\u001b[1;32m   1750\u001b[0m called_always_called_hooks \u001b[38;5;241m=\u001b[39m \u001b[38;5;28mset\u001b[39m()\n",
      "Cell \u001b[0;32mIn[4], line 17\u001b[0m, in \u001b[0;36mLeNet_5.forward\u001b[0;34m(self, x)\u001b[0m\n\u001b[1;32m     16\u001b[0m \u001b[38;5;28;01mdef\u001b[39;00m \u001b[38;5;21mforward\u001b[39m(\u001b[38;5;28mself\u001b[39m, x):\n\u001b[0;32m---> 17\u001b[0m     \u001b[38;5;28;01mreturn\u001b[39;00m \u001b[38;5;28;43mself\u001b[39;49m\u001b[38;5;241;43m.\u001b[39;49m\u001b[43mmodel1\u001b[49m\u001b[43m(\u001b[49m\u001b[43mx\u001b[49m\u001b[43m)\u001b[49m\n",
      "File \u001b[0;32m/opt/anaconda3/envs/Pytorch/lib/python3.9/site-packages/torch/nn/modules/module.py:1736\u001b[0m, in \u001b[0;36mModule._wrapped_call_impl\u001b[0;34m(self, *args, **kwargs)\u001b[0m\n\u001b[1;32m   1734\u001b[0m     \u001b[38;5;28;01mreturn\u001b[39;00m \u001b[38;5;28mself\u001b[39m\u001b[38;5;241m.\u001b[39m_compiled_call_impl(\u001b[38;5;241m*\u001b[39margs, \u001b[38;5;241m*\u001b[39m\u001b[38;5;241m*\u001b[39mkwargs)  \u001b[38;5;66;03m# type: ignore[misc]\u001b[39;00m\n\u001b[1;32m   1735\u001b[0m \u001b[38;5;28;01melse\u001b[39;00m:\n\u001b[0;32m-> 1736\u001b[0m     \u001b[38;5;28;01mreturn\u001b[39;00m \u001b[38;5;28;43mself\u001b[39;49m\u001b[38;5;241;43m.\u001b[39;49m\u001b[43m_call_impl\u001b[49m\u001b[43m(\u001b[49m\u001b[38;5;241;43m*\u001b[39;49m\u001b[43margs\u001b[49m\u001b[43m,\u001b[49m\u001b[43m \u001b[49m\u001b[38;5;241;43m*\u001b[39;49m\u001b[38;5;241;43m*\u001b[39;49m\u001b[43mkwargs\u001b[49m\u001b[43m)\u001b[49m\n",
      "File \u001b[0;32m/opt/anaconda3/envs/Pytorch/lib/python3.9/site-packages/torch/nn/modules/module.py:1747\u001b[0m, in \u001b[0;36mModule._call_impl\u001b[0;34m(self, *args, **kwargs)\u001b[0m\n\u001b[1;32m   1742\u001b[0m \u001b[38;5;66;03m# If we don't have any hooks, we want to skip the rest of the logic in\u001b[39;00m\n\u001b[1;32m   1743\u001b[0m \u001b[38;5;66;03m# this function, and just call forward.\u001b[39;00m\n\u001b[1;32m   1744\u001b[0m \u001b[38;5;28;01mif\u001b[39;00m \u001b[38;5;129;01mnot\u001b[39;00m (\u001b[38;5;28mself\u001b[39m\u001b[38;5;241m.\u001b[39m_backward_hooks \u001b[38;5;129;01mor\u001b[39;00m \u001b[38;5;28mself\u001b[39m\u001b[38;5;241m.\u001b[39m_backward_pre_hooks \u001b[38;5;129;01mor\u001b[39;00m \u001b[38;5;28mself\u001b[39m\u001b[38;5;241m.\u001b[39m_forward_hooks \u001b[38;5;129;01mor\u001b[39;00m \u001b[38;5;28mself\u001b[39m\u001b[38;5;241m.\u001b[39m_forward_pre_hooks\n\u001b[1;32m   1745\u001b[0m         \u001b[38;5;129;01mor\u001b[39;00m _global_backward_pre_hooks \u001b[38;5;129;01mor\u001b[39;00m _global_backward_hooks\n\u001b[1;32m   1746\u001b[0m         \u001b[38;5;129;01mor\u001b[39;00m _global_forward_hooks \u001b[38;5;129;01mor\u001b[39;00m _global_forward_pre_hooks):\n\u001b[0;32m-> 1747\u001b[0m     \u001b[38;5;28;01mreturn\u001b[39;00m \u001b[43mforward_call\u001b[49m\u001b[43m(\u001b[49m\u001b[38;5;241;43m*\u001b[39;49m\u001b[43margs\u001b[49m\u001b[43m,\u001b[49m\u001b[43m \u001b[49m\u001b[38;5;241;43m*\u001b[39;49m\u001b[38;5;241;43m*\u001b[39;49m\u001b[43mkwargs\u001b[49m\u001b[43m)\u001b[49m\n\u001b[1;32m   1749\u001b[0m result \u001b[38;5;241m=\u001b[39m \u001b[38;5;28;01mNone\u001b[39;00m\n\u001b[1;32m   1750\u001b[0m called_always_called_hooks \u001b[38;5;241m=\u001b[39m \u001b[38;5;28mset\u001b[39m()\n",
      "File \u001b[0;32m/opt/anaconda3/envs/Pytorch/lib/python3.9/site-packages/torch/nn/modules/container.py:250\u001b[0m, in \u001b[0;36mSequential.forward\u001b[0;34m(self, input)\u001b[0m\n\u001b[1;32m    248\u001b[0m \u001b[38;5;28;01mdef\u001b[39;00m \u001b[38;5;21mforward\u001b[39m(\u001b[38;5;28mself\u001b[39m, \u001b[38;5;28minput\u001b[39m):\n\u001b[1;32m    249\u001b[0m     \u001b[38;5;28;01mfor\u001b[39;00m module \u001b[38;5;129;01min\u001b[39;00m \u001b[38;5;28mself\u001b[39m:\n\u001b[0;32m--> 250\u001b[0m         \u001b[38;5;28minput\u001b[39m \u001b[38;5;241m=\u001b[39m \u001b[43mmodule\u001b[49m\u001b[43m(\u001b[49m\u001b[38;5;28;43minput\u001b[39;49m\u001b[43m)\u001b[49m\n\u001b[1;32m    251\u001b[0m     \u001b[38;5;28;01mreturn\u001b[39;00m \u001b[38;5;28minput\u001b[39m\n",
      "File \u001b[0;32m/opt/anaconda3/envs/Pytorch/lib/python3.9/site-packages/torch/nn/modules/module.py:1736\u001b[0m, in \u001b[0;36mModule._wrapped_call_impl\u001b[0;34m(self, *args, **kwargs)\u001b[0m\n\u001b[1;32m   1734\u001b[0m     \u001b[38;5;28;01mreturn\u001b[39;00m \u001b[38;5;28mself\u001b[39m\u001b[38;5;241m.\u001b[39m_compiled_call_impl(\u001b[38;5;241m*\u001b[39margs, \u001b[38;5;241m*\u001b[39m\u001b[38;5;241m*\u001b[39mkwargs)  \u001b[38;5;66;03m# type: ignore[misc]\u001b[39;00m\n\u001b[1;32m   1735\u001b[0m \u001b[38;5;28;01melse\u001b[39;00m:\n\u001b[0;32m-> 1736\u001b[0m     \u001b[38;5;28;01mreturn\u001b[39;00m \u001b[38;5;28;43mself\u001b[39;49m\u001b[38;5;241;43m.\u001b[39;49m\u001b[43m_call_impl\u001b[49m\u001b[43m(\u001b[49m\u001b[38;5;241;43m*\u001b[39;49m\u001b[43margs\u001b[49m\u001b[43m,\u001b[49m\u001b[43m \u001b[49m\u001b[38;5;241;43m*\u001b[39;49m\u001b[38;5;241;43m*\u001b[39;49m\u001b[43mkwargs\u001b[49m\u001b[43m)\u001b[49m\n",
      "File \u001b[0;32m/opt/anaconda3/envs/Pytorch/lib/python3.9/site-packages/torch/nn/modules/module.py:1747\u001b[0m, in \u001b[0;36mModule._call_impl\u001b[0;34m(self, *args, **kwargs)\u001b[0m\n\u001b[1;32m   1742\u001b[0m \u001b[38;5;66;03m# If we don't have any hooks, we want to skip the rest of the logic in\u001b[39;00m\n\u001b[1;32m   1743\u001b[0m \u001b[38;5;66;03m# this function, and just call forward.\u001b[39;00m\n\u001b[1;32m   1744\u001b[0m \u001b[38;5;28;01mif\u001b[39;00m \u001b[38;5;129;01mnot\u001b[39;00m (\u001b[38;5;28mself\u001b[39m\u001b[38;5;241m.\u001b[39m_backward_hooks \u001b[38;5;129;01mor\u001b[39;00m \u001b[38;5;28mself\u001b[39m\u001b[38;5;241m.\u001b[39m_backward_pre_hooks \u001b[38;5;129;01mor\u001b[39;00m \u001b[38;5;28mself\u001b[39m\u001b[38;5;241m.\u001b[39m_forward_hooks \u001b[38;5;129;01mor\u001b[39;00m \u001b[38;5;28mself\u001b[39m\u001b[38;5;241m.\u001b[39m_forward_pre_hooks\n\u001b[1;32m   1745\u001b[0m         \u001b[38;5;129;01mor\u001b[39;00m _global_backward_pre_hooks \u001b[38;5;129;01mor\u001b[39;00m _global_backward_hooks\n\u001b[1;32m   1746\u001b[0m         \u001b[38;5;129;01mor\u001b[39;00m _global_forward_hooks \u001b[38;5;129;01mor\u001b[39;00m _global_forward_pre_hooks):\n\u001b[0;32m-> 1747\u001b[0m     \u001b[38;5;28;01mreturn\u001b[39;00m \u001b[43mforward_call\u001b[49m\u001b[43m(\u001b[49m\u001b[38;5;241;43m*\u001b[39;49m\u001b[43margs\u001b[49m\u001b[43m,\u001b[49m\u001b[43m \u001b[49m\u001b[38;5;241;43m*\u001b[39;49m\u001b[38;5;241;43m*\u001b[39;49m\u001b[43mkwargs\u001b[49m\u001b[43m)\u001b[49m\n\u001b[1;32m   1749\u001b[0m result \u001b[38;5;241m=\u001b[39m \u001b[38;5;28;01mNone\u001b[39;00m\n\u001b[1;32m   1750\u001b[0m called_always_called_hooks \u001b[38;5;241m=\u001b[39m \u001b[38;5;28mset\u001b[39m()\n",
      "File \u001b[0;32m/opt/anaconda3/envs/Pytorch/lib/python3.9/site-packages/torch/nn/modules/conv.py:554\u001b[0m, in \u001b[0;36mConv2d.forward\u001b[0;34m(self, input)\u001b[0m\n\u001b[1;32m    553\u001b[0m \u001b[38;5;28;01mdef\u001b[39;00m \u001b[38;5;21mforward\u001b[39m(\u001b[38;5;28mself\u001b[39m, \u001b[38;5;28minput\u001b[39m: Tensor) \u001b[38;5;241m-\u001b[39m\u001b[38;5;241m>\u001b[39m Tensor:\n\u001b[0;32m--> 554\u001b[0m     \u001b[38;5;28;01mreturn\u001b[39;00m \u001b[38;5;28;43mself\u001b[39;49m\u001b[38;5;241;43m.\u001b[39;49m\u001b[43m_conv_forward\u001b[49m\u001b[43m(\u001b[49m\u001b[38;5;28;43minput\u001b[39;49m\u001b[43m,\u001b[49m\u001b[43m \u001b[49m\u001b[38;5;28;43mself\u001b[39;49m\u001b[38;5;241;43m.\u001b[39;49m\u001b[43mweight\u001b[49m\u001b[43m,\u001b[49m\u001b[43m \u001b[49m\u001b[38;5;28;43mself\u001b[39;49m\u001b[38;5;241;43m.\u001b[39;49m\u001b[43mbias\u001b[49m\u001b[43m)\u001b[49m\n",
      "File \u001b[0;32m/opt/anaconda3/envs/Pytorch/lib/python3.9/site-packages/torch/nn/modules/conv.py:549\u001b[0m, in \u001b[0;36mConv2d._conv_forward\u001b[0;34m(self, input, weight, bias)\u001b[0m\n\u001b[1;32m    537\u001b[0m \u001b[38;5;28;01mif\u001b[39;00m \u001b[38;5;28mself\u001b[39m\u001b[38;5;241m.\u001b[39mpadding_mode \u001b[38;5;241m!=\u001b[39m \u001b[38;5;124m\"\u001b[39m\u001b[38;5;124mzeros\u001b[39m\u001b[38;5;124m\"\u001b[39m:\n\u001b[1;32m    538\u001b[0m     \u001b[38;5;28;01mreturn\u001b[39;00m F\u001b[38;5;241m.\u001b[39mconv2d(\n\u001b[1;32m    539\u001b[0m         F\u001b[38;5;241m.\u001b[39mpad(\n\u001b[1;32m    540\u001b[0m             \u001b[38;5;28minput\u001b[39m, \u001b[38;5;28mself\u001b[39m\u001b[38;5;241m.\u001b[39m_reversed_padding_repeated_twice, mode\u001b[38;5;241m=\u001b[39m\u001b[38;5;28mself\u001b[39m\u001b[38;5;241m.\u001b[39mpadding_mode\n\u001b[0;32m   (...)\u001b[0m\n\u001b[1;32m    547\u001b[0m         \u001b[38;5;28mself\u001b[39m\u001b[38;5;241m.\u001b[39mgroups,\n\u001b[1;32m    548\u001b[0m     )\n\u001b[0;32m--> 549\u001b[0m \u001b[38;5;28;01mreturn\u001b[39;00m \u001b[43mF\u001b[49m\u001b[38;5;241;43m.\u001b[39;49m\u001b[43mconv2d\u001b[49m\u001b[43m(\u001b[49m\n\u001b[1;32m    550\u001b[0m \u001b[43m    \u001b[49m\u001b[38;5;28;43minput\u001b[39;49m\u001b[43m,\u001b[49m\u001b[43m \u001b[49m\u001b[43mweight\u001b[49m\u001b[43m,\u001b[49m\u001b[43m \u001b[49m\u001b[43mbias\u001b[49m\u001b[43m,\u001b[49m\u001b[43m \u001b[49m\u001b[38;5;28;43mself\u001b[39;49m\u001b[38;5;241;43m.\u001b[39;49m\u001b[43mstride\u001b[49m\u001b[43m,\u001b[49m\u001b[43m \u001b[49m\u001b[38;5;28;43mself\u001b[39;49m\u001b[38;5;241;43m.\u001b[39;49m\u001b[43mpadding\u001b[49m\u001b[43m,\u001b[49m\u001b[43m \u001b[49m\u001b[38;5;28;43mself\u001b[39;49m\u001b[38;5;241;43m.\u001b[39;49m\u001b[43mdilation\u001b[49m\u001b[43m,\u001b[49m\u001b[43m \u001b[49m\u001b[38;5;28;43mself\u001b[39;49m\u001b[38;5;241;43m.\u001b[39;49m\u001b[43mgroups\u001b[49m\n\u001b[1;32m    551\u001b[0m \u001b[43m\u001b[49m\u001b[43m)\u001b[49m\n",
      "\u001b[0;31mKeyboardInterrupt\u001b[0m: "
     ]
    }
   ],
   "source": [
    "# 开始训练\n",
    "for i in range(epoch):\n",
    "    print(\"-----------------第 {} 轮训练开始-----------------\".format(i + 1))\n",
    "\n",
    "    # 训练步骤开始\n",
    "    model.train()\n",
    "    for data in train_dataloader:\n",
    "        # 对数据调用.cuda()\n",
    "        imgs, targets = data\n",
    "        imgs.to(device)\n",
    "        targets.to(device)\n",
    "        outputs = model(imgs)\n",
    "        # print(outputs.shape)\n",
    "        # print(targets.shape)\n",
    "        loss = loss_fn(outputs, targets)\n",
    "\n",
    "        # 优化优化模型\n",
    "        optimizer.zero_grad()\n",
    "        loss.backward()\n",
    "        optimizer.step()\n",
    "\n",
    "        # 查看训练结果\n",
    "        total_train_step += 1\n",
    "        if total_train_step % 100 == 0:\n",
    "            print(\"训练次数:{}, loss:{}\".format(total_train_step, loss.item()))\n",
    "            writer.add_scalar(\"train_loss\", loss.item(), total_train_step)\n",
    "\n",
    "\n",
    "    model.eval()\n",
    "    # 每一轮训练结束之后在测试集上验证模型的效果，对模型进行评估，在测试集上不对模型进行调优\n",
    "    # 在with下不会再进行梯度的计算\n",
    "    total_test_loss = 0\n",
    "    with torch.no_grad():\n",
    "        right_sum = 0\n",
    "        for data in val_dataloader:\n",
    "            # 对数据调用.cuda()\n",
    "            imgs, targets = data\n",
    "            imgs.to(device)\n",
    "            targets.to(device)\n",
    "            outputs = model(imgs)\n",
    "            loss = loss_fn(outputs, targets)\n",
    "            total_test_loss += loss.item()\n",
    "            outputs = torch.argmax(outputs, dim = 1)\n",
    "            # print((outputs == targets).sum())\n",
    "            # print(outputs)\n",
    "            right_sum += (outputs == targets).sum()\n",
    "        print(\"整体测试集上的loss:{}\".format(total_test_loss)) \n",
    "        writer.add_scalar(\"test_loss\", total_test_loss, total_test_step)\n",
    "        print(\"整体测试集上的正确率:{}\".format(right_sum / 10000)) # 测试集有10000张图片\n",
    "        writer.add_scalar(\"test_accuracy\", right_sum / 10000, total_test_step)\n",
    "        total_test_step += 1\n",
    "\n",
    "    # 每一轮训练完需要保存当前模型\n",
    "    # 方法1： \n",
    "    # torch.save(model, \"../Models/LeNet_5/LeNet_5_No_{}_Loss_{}.pth\".format(epoch, total_test_step))\n",
    "    # 方法2（更推荐）：\n",
    "    torch.save(model.state_dict(), \"../Models/LeNet_5/LeNet_5_No_{}_Loss_{}.pth\".format(epoch, total_test_step))\n",
    "    print(\"模型已保存\")\n",
    "\n",
    "\n",
    "writer.close()"
   ]
  },
  {
   "cell_type": "code",
   "execution_count": null,
   "id": "b058b7d4-6030-4e23-8652-8c90936671b6",
   "metadata": {},
   "outputs": [],
   "source": []
  }
 ],
 "metadata": {
  "kernelspec": {
   "display_name": "Pytorch",
   "language": "python",
   "name": "pytorch"
  },
  "language_info": {
   "codemirror_mode": {
    "name": "ipython",
    "version": 3
   },
   "file_extension": ".py",
   "mimetype": "text/x-python",
   "name": "python",
   "nbconvert_exporter": "python",
   "pygments_lexer": "ipython3",
   "version": "3.9.20"
  }
 },
 "nbformat": 4,
 "nbformat_minor": 5
}
