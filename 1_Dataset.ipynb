{
 "cells": [
  {
   "cell_type": "markdown",
   "id": "8888a8c1-c74b-4e07-9625-17b263643c73",
   "metadata": {},
   "source": [
    "# 学习如何加载数据集   "
   ]
  },
  {
   "cell_type": "code",
   "execution_count": 2,
   "id": "ee0106a9-2f89-4baf-8e7f-65adf7a3e505",
   "metadata": {},
   "outputs": [],
   "source": [
    "# 导入PyTorch相关的数据集处理和数据加载工具\n",
    "from torch.utils.data import Dataset, DataLoader\n",
    "import numpy as np\n",
    "from PIL import Image\n",
    "import os\n",
    "from torchvision import transforms\n",
    "from torch.utils.tensorboard import SummaryWriter\n",
    "from torchvision.utils import make_grid"
   ]
  },
  {
   "cell_type": "markdown",
   "id": "ffa2938e-c581-403d-9dd1-81ff9054f927",
   "metadata": {},
   "source": []
  },
  {
   "cell_type": "code",
   "execution_count": 5,
   "id": "4fa3cee1-0e4a-42b7-af86-c64523295b75",
   "metadata": {},
   "outputs": [],
   "source": [
    "class MyData(Dataset):\n",
    "    # 获取传入的参数，将数据所在的路径与其label通过self共享到class内部，方便后续的函数使用\n",
    "    def __init__(self, root_dir, label_dir):\n",
    "        self.root_dir = root_dir\n",
    "        self.label_dir = label_dir\n",
    "        self.path = os.path.join(self.root_dir, self.label_dir)\n",
    "        self.img_path = os.listdir(self.path)\n",
    "\n",
    "    # 按照idx获取图片数据与其对应的label\n",
    "    # 在具体的使用中被直接重构成了数组的下标，eg:ants_img[0]\n",
    "    def __getitem__(self, idx):\n",
    "        img_name = self.img_path[idx]\n",
    "        img_item_path = os.path.join(self.root_dir, self.label_dir, img_name)\n",
    "        img = Image.open(img_item_path)\n",
    "        label = self.label_dir\n",
    "        return img, label\n",
    "\n",
    "    # \n",
    "    def __len__(self):\n",
    "        return len(self.img_path)"
   ]
  },
  {
   "cell_type": "markdown",
   "id": "9f166c2f-dff8-4a99-98ef-acb323dbc974",
   "metadata": {},
   "source": [
    "下面是一些简单的对上面重写的MyData类的使用"
   ]
  },
  {
   "cell_type": "markdown",
   "id": "31b903e0-57b0-4548-8ecc-cae09118e01f",
   "metadata": {},
   "source": [
    "单个数据集"
   ]
  },
  {
   "cell_type": "code",
   "execution_count": 11,
   "id": "92ec8558-eec2-4408-9619-24e2a76766f4",
   "metadata": {},
   "outputs": [],
   "source": [
    "root_dir = \"../dataset/train\"\n",
    "ants_label_dir = \"ants\"\n",
    "ants_dataset = MyData(root_dir, ants_label_dir)\n",
    "img, label = ants_dataset[1]\n",
    "img.show()"
   ]
  },
  {
   "cell_type": "code",
   "execution_count": 13,
   "id": "c253c456-9143-4500-9a79-c7e7043c9e16",
   "metadata": {},
   "outputs": [],
   "source": [
    "bees_label_dir = \"bees\"\n",
    "bees_dataset = MyData(root_dir, bees_label_dir)\n",
    "img, label = bees_dataset[1]\n",
    "img.show()"
   ]
  },
  {
   "cell_type": "markdown",
   "id": "c566eb01-587d-488e-8a9c-c4bb16eff611",
   "metadata": {},
   "source": [
    "一整个数据集"
   ]
  },
  {
   "cell_type": "code",
   "execution_count": 17,
   "id": "7306e379-f6f9-4e21-bac3-1302e59e56a2",
   "metadata": {},
   "outputs": [
    {
     "name": "stdout",
     "output_type": "stream",
     "text": [
      "124\n",
      "121\n",
      "245\n"
     ]
    }
   ],
   "source": [
    "train_dataset = ants_dataset + bees_dataset\n",
    "print(len(ants_dataset))\n",
    "print(len(bees_dataset))\n",
    "print(len(train_dataset))\n",
    "img1, _ = train_dataset[0]\n",
    "img2, _ = train_dataset[123]\n",
    "img3, _ = train_dataset[124]\n",
    "img4, _ = train_dataset[244]\n",
    "img1.show()\n",
    "img2.show()\n",
    "img3.show()\n",
    "img4.show()"
   ]
  }
 ],
 "metadata": {
  "kernelspec": {
   "display_name": "Pytorch",
   "language": "python",
   "name": "pytorch"
  },
  "language_info": {
   "codemirror_mode": {
    "name": "ipython",
    "version": 3
   },
   "file_extension": ".py",
   "mimetype": "text/x-python",
   "name": "python",
   "nbconvert_exporter": "python",
   "pygments_lexer": "ipython3",
   "version": "3.9.20"
  }
 },
 "nbformat": 4,
 "nbformat_minor": 5
}
