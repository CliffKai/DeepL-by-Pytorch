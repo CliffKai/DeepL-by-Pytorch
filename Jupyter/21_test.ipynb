{
 "cells": [
  {
   "cell_type": "code",
   "execution_count": 3,
   "id": "f5068d79-0f1c-43ec-95be-4f685afafd2e",
   "metadata": {},
   "outputs": [],
   "source": [
    "import torch\n",
    "import torchvision\n",
    "from PIL import Image\n",
    "from Model_save import *"
   ]
  },
  {
   "cell_type": "code",
   "execution_count": null,
   "id": "7e4f276a-fc13-4be6-960d-32661154521e",
   "metadata": {},
   "outputs": [],
   "source": [
    "# 特别说明：\n",
    "# RGB 图像是3通道的，PNG 图像是4通道的（相比于RGB图像还多了一个透明度通道色）\n",
    "# 所以需要使用 image.convert('RGB') 来剔除掉透明度通道，只保留三原色通道"
   ]
  },
  {
   "cell_type": "code",
   "execution_count": 4,
   "id": "2764001b-3f81-46d9-9f12-94268ece9617",
   "metadata": {},
   "outputs": [],
   "source": [
    "# 准备图像\n",
    "image_pth = \"./images/dog_1.png\"\n",
    "img = Image.open(image_pth)\n",
    "img = img.convert('RGB')"
   ]
  },
  {
   "cell_type": "code",
   "execution_count": 5,
   "id": "efb1b0ff-de20-4e4c-b7a2-e959a5822ea3",
   "metadata": {},
   "outputs": [],
   "source": [
    "# 准备图像处理\n",
    "transform = torchvision.transforms.Compose([torchvision.transforms.Resize((32, 32)),\n",
    "                                            torchvision.transforms.ToTensor()])"
   ]
  },
  {
   "cell_type": "code",
   "execution_count": 17,
   "id": "87a1be16-ee0b-4ee3-9958-58dc7498b73e",
   "metadata": {},
   "outputs": [
    {
     "name": "stdout",
     "output_type": "stream",
     "text": [
      "torch.Size([1, 3, 32, 32])\n"
     ]
    }
   ],
   "source": [
    "# 准备图像\n",
    "image = transform(img)\n",
    "image = torch.reshape(image, (1, 3, 32, 32))\n",
    "print(image.shape)"
   ]
  },
  {
   "cell_type": "code",
   "execution_count": 20,
   "id": "023adaeb-f1e8-430c-82d4-c3886ad1c2dd",
   "metadata": {},
   "outputs": [
    {
     "name": "stdout",
     "output_type": "stream",
     "text": [
      "LeNet_5(\n",
      "  (model1): Sequential(\n",
      "    (conv1): Conv2d(3, 32, kernel_size=(5, 5), stride=(1, 1), padding=(2, 2))\n",
      "    (pool1): MaxPool2d(kernel_size=2, stride=2, padding=0, dilation=1, ceil_mode=False)\n",
      "    (conv2): Conv2d(32, 32, kernel_size=(5, 5), stride=(1, 1), padding=(2, 2))\n",
      "    (pool2): MaxPool2d(kernel_size=2, stride=2, padding=0, dilation=1, ceil_mode=False)\n",
      "    (conv3): Conv2d(32, 64, kernel_size=(5, 5), stride=(1, 1), padding=(2, 2))\n",
      "    (pool3): MaxPool2d(kernel_size=2, stride=2, padding=0, dilation=1, ceil_mode=False)\n",
      "    (flatten): Flatten(start_dim=1, end_dim=-1)\n",
      "    (fc1): Linear(in_features=1024, out_features=64, bias=True)\n",
      "    (fc2): Linear(in_features=64, out_features=10, bias=True)\n",
      "  )\n",
      ")\n"
     ]
    }
   ],
   "source": [
    "# 准备训练好的模型\n",
    "model = LeNet_5()\n",
    "# 加载模型参数\n",
    "# model_weight = torch.load(\"../Models/LeNet_5/LeNet_5_No_10_Loss_313.39422714710236.pth\", weights_only=True)\n",
    "# 如果模型参数是在 GPU 上训练来的，需要在使用时指定使用设备\n",
    "model_weight = torch.load(\"../Models/LeNet_5/LeNet_5_No_100_Loss_199.2278801202774.pth\", weights_only=True, map_location = torch.device('cpu'))\n",
    "model.load_state_dict(model_weight)\n",
    "print(model)"
   ]
  },
  {
   "cell_type": "code",
   "execution_count": 21,
   "id": "3507491c-c5d8-456a-9bb7-5fcb59bb47b9",
   "metadata": {},
   "outputs": [
    {
     "name": "stdout",
     "output_type": "stream",
     "text": [
      "tensor(5)\n"
     ]
    }
   ],
   "source": [
    "# 使用模型识别图像\n",
    "model.eval()\n",
    "with torch.no_grad():\n",
    "    output = model(image)\n",
    "print(torch.argmax(output))"
   ]
  },
  {
   "cell_type": "code",
   "execution_count": null,
   "id": "30b24f72-535a-4e86-85fe-e15d9f4c1e8c",
   "metadata": {},
   "outputs": [],
   "source": []
  }
 ],
 "metadata": {
  "kernelspec": {
   "display_name": "Pytorch",
   "language": "python",
   "name": "pytorch"
  },
  "language_info": {
   "codemirror_mode": {
    "name": "ipython",
    "version": 3
   },
   "file_extension": ".py",
   "mimetype": "text/x-python",
   "name": "python",
   "nbconvert_exporter": "python",
   "pygments_lexer": "ipython3",
   "version": "3.9.20"
  }
 },
 "nbformat": 4,
 "nbformat_minor": 5
}
