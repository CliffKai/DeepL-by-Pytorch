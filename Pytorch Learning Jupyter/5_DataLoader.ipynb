{
 "cells": [
  {
   "cell_type": "code",
   "execution_count": 1,
   "id": "81a472ed-b285-40a3-843a-8a70aa059bce",
   "metadata": {},
   "outputs": [],
   "source": [
    "# DataLoader常见参数设置\n",
    "# dataset (Dataset) – dataset from which to load the data.\n",
    "# batch_size (int, optional) – how many samples per batch to load (default: 1).\n",
    "# shuffle (bool, optional) – True:打乱    False:不打乱    (default: False)\n",
    "# sampler (Sampler or Iterable, optional) – 采样策略\n",
    "    # sampler 决定每个 epoch 中 DataLoader 返回数据的顺序。\n",
    "\t# •\t不设置 sampler，且 shuffle=True → 系统默认用 RandomSampler\n",
    "\t# •\t设置了 sampler → 你自己决定样本顺序，就不能再设置 shuffle（会冲突）\n",
    "    # PyTorch 已经有一些常用的 sampler 实现：\n",
    "        # SequentialSampler:按顺序依次采样（适用于验证或不打乱的训练,默认在 shuffle = False 时使用）\n",
    "        # RandomSampler:随机打乱后采样（适用于训练时打乱数据,默认在 shuffle = True 时使用）\n",
    "        # WeightedRandomSampler:根据给定权重概率进行有放回采样（适用于类别不平衡问题)\n",
    "        # SubsetRandomSampler:从指定的索引子集中随机采样（适用于划分训练/验证集等情况）\n",
    "# num_workers (int, optional) – how many subprocesses to use for data loading. 0 means that the data will be loaded in the main process. (default: 0)          # 用于数据加载的子进程（subprocesses）数量\n",
    "# drop_last (bool, optional) – 是否舍弃不足一组 batch_size 的数据\n",
    "    # set to True to drop the last incomplete batch, if the dataset size is not divisible by the batch size. If False and the size of dataset is not divisible by the batch size, then the last batch will be smaller. (default: False)"
   ]
  },
  {
   "cell_type": "code",
   "execution_count": 15,
   "id": "815cf63d-b284-4b13-bea3-d474a91b53e1",
   "metadata": {},
   "outputs": [],
   "source": [
    "import torchvision\n",
    "from torch.utils.data import DataLoader\n",
    "from torch.utils.tensorboard import SummaryWriter"
   ]
  },
  {
   "cell_type": "code",
   "execution_count": 8,
   "id": "27a11ab5-c4a2-4e75-9891-e23afc6b1c5c",
   "metadata": {},
   "outputs": [
    {
     "name": "stdout",
     "output_type": "stream",
     "text": [
      "torch.Size([3, 32, 32])\n",
      "3\n"
     ]
    }
   ],
   "source": [
    "# 准备测试集\n",
    "test_data = torchvision.datasets.CIFAR10(\"../datasets/CIFAR10\", train = False, transform = torchvision.transforms.ToTensor())\n",
    "# 测试数据集中第一张图片及其target\n",
    "# datasets的__getitem__(index: int)会return 给予index的 img, target\n",
    "img, target = test_data[0]\n",
    "print(img.shape)\n",
    "print(target)"
   ]
  },
  {
   "cell_type": "code",
   "execution_count": 17,
   "id": "3b85de23-c11f-40c6-88a9-256623bd9761",
   "metadata": {},
   "outputs": [
    {
     "name": "stdout",
     "output_type": "stream",
     "text": [
      "11 :\n",
      "torch.Size([4, 3, 32, 32])\n",
      "tensor([5, 8, 0, 0])\n",
      "11 :\n",
      "torch.Size([4, 3, 32, 32])\n",
      "tensor([9, 0, 4, 4])\n",
      "11 :\n",
      "torch.Size([4, 3, 32, 32])\n",
      "tensor([6, 1, 8, 9])\n",
      "11 :\n",
      "torch.Size([4, 3, 32, 32])\n",
      "tensor([6, 4, 6, 1])\n",
      "11 :\n",
      "torch.Size([4, 3, 32, 32])\n",
      "tensor([0, 5, 0, 5])\n",
      "11 :\n",
      "torch.Size([4, 3, 32, 32])\n",
      "tensor([7, 7, 7, 3])\n",
      "11 :\n",
      "torch.Size([4, 3, 32, 32])\n",
      "tensor([9, 1, 7, 4])\n",
      "11 :\n",
      "torch.Size([4, 3, 32, 32])\n",
      "tensor([1, 5, 2, 8])\n",
      "11 :\n",
      "torch.Size([4, 3, 32, 32])\n",
      "tensor([8, 0, 5, 1])\n",
      "11 :\n",
      "torch.Size([4, 3, 32, 32])\n",
      "tensor([2, 8, 9, 9])\n",
      "11 :\n",
      "torch.Size([4, 3, 32, 32])\n",
      "tensor([1, 5, 3, 4])\n"
     ]
    }
   ],
   "source": [
    "test_loader = DataLoader(dataset = test_data, batch_size = 4, shuffle = True, num_workers = 0, drop_last = False)\n",
    "# DataLoader每次读取会以取出datasets中的batch_size个数据，分别将img和target打包返回\n",
    "writer = SummaryWriter(\"../logs/5_DataLoader\")\n",
    "step = 0\n",
    "for data in test_loader:\n",
    "    if step > 10:\n",
    "        break\n",
    "    print(step, \":\")\n",
    "    imgs, targets = data\n",
    "    writer.add_images(\"test_data\", imgs, step)\n",
    "    print(imgs.shape)\n",
    "    print(targets)\n",
    "    step += 1\n",
    "\n",
    "writer.close()"
   ]
  },
  {
   "cell_type": "code",
   "execution_count": null,
   "id": "735faaa8-718c-4fba-a08d-780355fd9e3b",
   "metadata": {},
   "outputs": [],
   "source": []
  }
 ],
 "metadata": {
  "kernelspec": {
   "display_name": "Pytorch",
   "language": "python",
   "name": "pytorch"
  },
  "language_info": {
   "codemirror_mode": {
    "name": "ipython",
    "version": 3
   },
   "file_extension": ".py",
   "mimetype": "text/x-python",
   "name": "python",
   "nbconvert_exporter": "python",
   "pygments_lexer": "ipython3",
   "version": "3.9.20"
  }
 },
 "nbformat": 4,
 "nbformat_minor": 5
}
