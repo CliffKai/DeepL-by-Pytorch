{
 "cells": [
  {
   "cell_type": "code",
   "execution_count": 1,
   "id": "80eacce1-7760-442b-aec6-0a201d9175b4",
   "metadata": {},
   "outputs": [],
   "source": [
    "# Module:\n",
    "    # Base class for all neural network modules.\n",
    "    # Your models should also subclass this class.\n",
    "    # 搭建的所有模型都必须从 Module 类继承\n",
    "\n",
    "    # forward：\n",
    "        # Define the computation performed at every call.\n",
    "        # Should be overridden by all subclasses.\n",
    "        # 所有子类中都必须重写\n",
    "\n",
    "    # 下面是一个简单的示例：\n",
    "# import torch.nn as nn\n",
    "# import torch.nn.functional as F\n",
    "\n",
    "# class Model(nn.Module):\n",
    "#     def __init__(self) -> None:\n",
    "#         super().__init__()                         必须的一步，对父类进行初始化\n",
    "#         self.conv1 = nn.Conv2d(1, 20, 5)           自己插入的模型\n",
    "#         self.conv2 = nn.Conv2d(20, 20, 5)\n",
    "\n",
    "#     def forward(self, x):                          \n",
    "#         x = F.relu(self.conv1(x))\n",
    "#         return F.relu(self.conv2(x))"
   ]
  },
  {
   "cell_type": "code",
   "execution_count": 6,
   "id": "776fd9b7-cc94-45b1-9681-f5526dfa1b02",
   "metadata": {},
   "outputs": [],
   "source": [
    "import torch\n",
    "from torch import nn"
   ]
  },
  {
   "cell_type": "code",
   "execution_count": 7,
   "id": "af08d911-d41d-42c0-a566-c72a18edfd36",
   "metadata": {},
   "outputs": [],
   "source": [
    "# 自定义一个神经网络模型\n",
    "class Tudui(nn.Module):\n",
    "    def __init__(self):\n",
    "        super().__init__()\n",
    "\n",
    "    def forward(self, input):\n",
    "        output = input + 1;\n",
    "        return output"
   ]
  },
  {
   "cell_type": "code",
   "execution_count": 11,
   "id": "2b95f1c0-8108-45ff-aa66-28bb46535fdb",
   "metadata": {},
   "outputs": [
    {
     "name": "stdout",
     "output_type": "stream",
     "text": [
      "tensor([2.0000, 3.5000])\n",
      "tensor(2.)\n"
     ]
    }
   ],
   "source": [
    "module_1 = Tudui()\n",
    "x = torch.tensor([1.0, 2.5])\n",
    "output = module_1(x)\n",
    "print(output)\n",
    "print(module_1(torch.tensor(1.0)))"
   ]
  },
  {
   "cell_type": "code",
   "execution_count": null,
   "id": "ae7f7bb1-bd4f-438f-965a-fb20ad410196",
   "metadata": {},
   "outputs": [],
   "source": []
  }
 ],
 "metadata": {
  "kernelspec": {
   "display_name": "Pytorch",
   "language": "python",
   "name": "pytorch"
  },
  "language_info": {
   "codemirror_mode": {
    "name": "ipython",
    "version": 3
   },
   "file_extension": ".py",
   "mimetype": "text/x-python",
   "name": "python",
   "nbconvert_exporter": "python",
   "pygments_lexer": "ipython3",
   "version": "3.9.20"
  }
 },
 "nbformat": 4,
 "nbformat_minor": 5
}
