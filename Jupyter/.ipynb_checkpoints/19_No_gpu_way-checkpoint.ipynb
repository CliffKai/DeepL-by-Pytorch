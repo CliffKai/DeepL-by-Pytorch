{
 "cells": [
  {
   "cell_type": "markdown",
   "id": "a7245d33-0186-4215-a081-7f1d44536a8c",
   "metadata": {},
   "source": [
    "没有gpu可以去[Google Colab](https://colab.research.google.com/)试用"
   ]
  }
 ],
 "metadata": {
  "kernelspec": {
   "display_name": "Pytorch",
   "language": "python",
   "name": "pytorch"
  },
  "language_info": {
   "codemirror_mode": {
    "name": "ipython",
    "version": 3
   },
   "file_extension": ".py",
   "mimetype": "text/x-python",
   "name": "python",
   "nbconvert_exporter": "python",
   "pygments_lexer": "ipython3",
   "version": "3.9.20"
  }
 },
 "nbformat": 4,
 "nbformat_minor": 5
}
