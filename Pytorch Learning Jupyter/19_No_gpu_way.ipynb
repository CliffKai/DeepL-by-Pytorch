{
 "cells": [
  {
   "cell_type": "markdown",
   "id": "a7245d33-0186-4215-a081-7f1d44536a8c",
   "metadata": {},
   "source": [
    "没有gpu可以去[Google Colab](https://colab.research.google.com/)试用   \n",
    "1. 新建一个笔记本：   \n",
    "![步骤1](./images/Google_Colab_1.png)   \n",
    "2. 设置gpu：   \n",
    "![步骤1](./images/Google_Colab_1.png)\n",
    "3. 转移代码，开始运行。    "
   ]
  },
  {
   "cell_type": "markdown",
   "id": "5635e7a6-c2ed-461d-b171-a02886b4df74",
   "metadata": {},
   "source": [
    "也可以直接查看[此教程](https://colab.research.google.com/github/googlecolab/colabtools/blob/main/notebooks/colab-github-demo.ipynb)，直接在Colab中运行本教程的代码。"
   ]
  },
  {
   "cell_type": "code",
   "execution_count": null,
   "id": "5ef58050-e022-4546-89a9-13dd9f8b73a7",
   "metadata": {},
   "outputs": [],
   "source": []
  }
 ],
 "metadata": {
  "kernelspec": {
   "display_name": "Pytorch",
   "language": "python",
   "name": "pytorch"
  },
  "language_info": {
   "codemirror_mode": {
    "name": "ipython",
    "version": 3
   },
   "file_extension": ".py",
   "mimetype": "text/x-python",
   "name": "python",
   "nbconvert_exporter": "python",
   "pygments_lexer": "ipython3",
   "version": "3.9.20"
  }
 },
 "nbformat": 4,
 "nbformat_minor": 5
}
